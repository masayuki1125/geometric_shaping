{
 "cells": [
  {
   "cell_type": "code",
   "execution_count": 110,
   "metadata": {},
   "outputs": [],
   "source": [
    "# In[8]:\n",
    "import math\n",
    "import numpy as np\n",
    "import cupy as cp\n",
    "pool = cp.cuda.MemoryPool(cp.cuda.malloc_managed)\n",
    "cp.cuda.set_allocator(pool.malloc)\n",
    "import sys\n",
    "import os\n",
    "from scipy.stats import norm\n",
    "import matplotlib.pyplot as plt\n",
    "sys.path.append(os.path.join(os.path.dirname('__file__'), '..'))\n",
    "\n",
    "from modulation.modulation import QAMModem"
   ]
  },
  {
   "cell_type": "code",
   "execution_count": 31,
   "metadata": {},
   "outputs": [],
   "source": [
    "def add_AWGN_GPU(constellation,No):\n",
    "  # AWGN雑音の生成\n",
    "  noise = cp.random.normal(0, math.sqrt(No / 2), (len(constellation)))           + 1j * cp.random.normal(0, math.sqrt(No / 2), (len(constellation)))\n",
    "\n",
    "  # AWGN通信路 = 送信シンボル間干渉が生じないような通信路で送信\n",
    "  RX_constellation = constellation + noise\n",
    "\n",
    "  # 以下のprint関数の出力を表示すると、Noとほぼ一致するはず\n",
    "  #print(cp.dot(noise[0, :], cp.conj(noise[0, :]))/bit_num)\n",
    "\n",
    "  return RX_constellation"
   ]
  },
  {
   "cell_type": "code",
   "execution_count": 99,
   "metadata": {},
   "outputs": [
    {
     "name": "stdout",
     "output_type": "stream",
     "text": [
      "(100000, 1)\n",
      "(100000,)\n"
     ]
    }
   ],
   "source": [
    "#print(symbol)\n",
    "\n",
    "#print(mat_symbol.shape)\n",
    "res=cp.take_along_axis(mat_symbol,info[:,None],axis=1)\n",
    "const=cp.take_along_axis(mat_symbol,info[:,None],axis=1)\n",
    "print(const.shape)\n",
    "\n",
    "const=const[:,0]\n",
    "print(const.shape)\n"
   ]
  },
  {
   "cell_type": "code",
   "execution_count": 100,
   "metadata": {},
   "outputs": [],
   "source": [
    "EsNodB=1\n",
    "EsNo = 10 ** (EsNodB / 10)\n",
    "No=1/EsNo\n",
    "count_num=100000\n",
    "M=4\n",
    "\n",
    "#make info matrices\n",
    "info=cp.random.randint(0,M-1,count_num)\n",
    "\n",
    "#make constellation\n",
    "modem=QAMModem(M)\n",
    "tmp=modem.code_book\n",
    "symbol=cp.zeros(M,dtype=complex)\n",
    "for i in tmp:\n",
    "    symbol[modem.bin2de(i)]=tmp[i]\n",
    "\n",
    "mat_symbol=cp.tile(symbol,(count_num,1))\n",
    "const=cp.take_along_axis(mat_symbol,info[:,None],axis=1)[:,0]"
   ]
  },
  {
   "cell_type": "code",
   "execution_count": 112,
   "metadata": {},
   "outputs": [],
   "source": [
    "def make_AMI(EsNodB,M):\n",
    "  \n",
    "    EsNo = 10 ** (EsNodB / 10)\n",
    "    No=1/EsNo\n",
    "    count_num=100000000\n",
    "\n",
    "    #make info matrices\n",
    "    info=cp.random.randint(0,M-1,count_num)\n",
    "\n",
    "    #make constellation\n",
    "    modem=QAMModem(M)\n",
    "    tmp=modem.code_book\n",
    "    symbol=cp.zeros(M,dtype=complex)\n",
    "    for i in tmp:\n",
    "        symbol[modem.bin2de(i)]=tmp[i]\n",
    "    \n",
    "    mat_symbol=cp.tile(symbol,(count_num,1))\n",
    "    const=cp.take_along_axis(mat_symbol,info[:,None],axis=1)[:,0]\n",
    "\n",
    "    #if cp.any(symbol==const)!=True:\n",
    "        #print(\"error\")\n",
    "        #print(symbol)\n",
    "        #print(const)\n",
    "\n",
    "    RX_const=add_AWGN_GPU(const,No)\n",
    "        \n",
    "    num=cp.sum(cp.exp(-1*cp.abs(np.tile(RX_const,(len(symbol),1))-symbol.reshape(-1,1))**2/No),axis=0)\n",
    "    \n",
    "    den=cp.exp(-1*cp.abs(RX_const-const)**2/No)\n",
    "    H=cp.sum(cp.log2(num/den))\n",
    "    H/=count_num\n",
    "    res=math.log2(M)-H\n",
    "    return res"
   ]
  },
  {
   "cell_type": "code",
   "execution_count": 119,
   "metadata": {},
   "outputs": [
    {
     "data": {
      "text/plain": [
       "[(-0.9486832980505138+0.31622776601683794j),\n",
       " (-0.9486832980505138-0.31622776601683794j),\n",
       " (-0.31622776601683794+0.31622776601683794j),\n",
       " (-0.31622776601683794-0.31622776601683794j),\n",
       " (0.9486832980505138+0.31622776601683794j),\n",
       " (0.9486832980505138-0.31622776601683794j),\n",
       " (0.31622776601683794+0.31622776601683794j),\n",
       " (0.31622776601683794-0.31622776601683794j)]"
      ]
     },
     "execution_count": 119,
     "metadata": {},
     "output_type": "execute_result"
    }
   ],
   "source": [
    "modem=QAMModem(16)\n",
    "tmp=modem.ones\n",
    "tmp[3]"
   ]
  },
  {
   "cell_type": "code",
   "execution_count": 115,
   "metadata": {},
   "outputs": [
    {
     "data": {
      "text/plain": [
       "array(1.12577558)"
      ]
     },
     "execution_count": 115,
     "metadata": {},
     "output_type": "execute_result"
    }
   ],
   "source": [
    "def make_BMI(EsNodB,M):\n",
    "      \n",
    "    EsNo = 10 ** (EsNodB / 10)\n",
    "    No=1/EsNo\n",
    "    count_num=100000000\n",
    "\n",
    "    #make info matrices\n",
    "    info=cp.random.randint(0,M-1,count_num)\n",
    "\n",
    "    #make constellation\n",
    "    modem=QAMModem(M)\n",
    "    tmp=modem.code_book\n",
    "    symbol=cp.zeros(M,dtype=complex)\n",
    "    for i in tmp:\n",
    "        symbol[modem.bin2de(i)]=tmp[i]\n",
    "    \n",
    "    mat_symbol=cp.tile(symbol,(count_num,1))\n",
    "    const=cp.take_along_axis(mat_symbol,info[:,None],axis=1)[:,0]\n",
    "\n",
    "    #if cp.any(symbol==const)!=True:\n",
    "        #print(\"error\")\n",
    "        #print(symbol)\n",
    "        #print(const)\n",
    "\n",
    "    RX_const=add_AWGN_GPU(const,No)\n",
    "        \n",
    "    num=cp.sum(cp.exp(-1*cp.abs(np.tile(RX_const,(len(symbol),1))-symbol.reshape(-1,1))**2/No),axis=0)\n",
    "    \n",
    "    den=cp.exp(-1*cp.abs(RX_const-const)**2/No)\n",
    "    H=cp.sum(cp.log2(num/den))\n",
    "    H/=count_num\n",
    "    res=math.log2(M)-H\n",
    "    return res"
   ]
  },
  {
   "cell_type": "code",
   "execution_count": null,
   "metadata": {},
   "outputs": [],
   "source": []
  }
 ],
 "metadata": {
  "interpreter": {
   "hash": "31f2aee4e71d21fbe5cf8b01ff0e069b9275f58929596ceb00d14d90e3e16cd6"
  },
  "kernelspec": {
   "display_name": "Python 3.8.10 64-bit",
   "name": "python3"
  },
  "language_info": {
   "codemirror_mode": {
    "name": "ipython",
    "version": 3
   },
   "file_extension": ".py",
   "mimetype": "text/x-python",
   "name": "python",
   "nbconvert_exporter": "python",
   "pygments_lexer": "ipython3",
   "version": "3.8.10"
  },
  "orig_nbformat": 4
 },
 "nbformat": 4,
 "nbformat_minor": 2
}
