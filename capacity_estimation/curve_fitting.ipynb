{
 "cells": [
  {
   "cell_type": "code",
   "execution_count": null,
   "metadata": {},
   "outputs": [],
   "source": [
    "import numpy as np\n",
    "import matplotlib.pyplot as plt\n",
    "from scipy.optimize import curve_fit"
   ]
  },
  {
   "cell_type": "markdown",
   "metadata": {},
   "source": [
    "$I(\\gamma)=1-\\sum_{i=1}^{N}{a_i exp(-b_i \\gamma)}$ \n",
    "\n",
    "多項式としてフィッティングする\n",
    "\n",
    "$log(1-I(\\gamma))=\\sum_{i=1}^{N}{(-b_i \\gamma +log(a_i))}$"
   ]
  },
  {
   "cell_type": "code",
   "execution_count": null,
   "metadata": {},
   "outputs": [],
   "source": [
    "def func(X, *param):\n",
    "    Y=1\n",
    "    alpha=param[::2]\n",
    "    beta=param[1::2]\n",
    "    for alpha_i,beta_i in zip(alpha,beta):\n",
    "        Y=Y-alpha_i*np.exp(-1*beta_i*X)\n",
    "    return Y"
   ]
  },
  {
   "cell_type": "code",
   "execution_count": 101,
   "metadata": {},
   "outputs": [],
   "source": [
    "#constant\n",
    "M=256\n",
    "EsNodB=0.0"
   ]
  },
  {
   "cell_type": "code",
   "execution_count": 102,
   "metadata": {},
   "outputs": [],
   "source": [
    "# directory make\n",
    "current_directory=\"/home/kaneko/Dropbox/programming/geometric_shaping/capacity_estimation\"\n",
    "#current_directory=os.getcwd()\n",
    "dir_name=\"BMI\"\n",
    "dir_name=current_directory+\"/\"+dir_name\n",
    "#filename\n",
    "filename=\"{}QAM_{}\".format(M,EsNodB)\n",
    "filename=dir_name+\"/\"+filename\n",
    "\n",
    "res=np.loadtxt(filename)"
   ]
  },
  {
   "cell_type": "code",
   "execution_count": 103,
   "metadata": {},
   "outputs": [
    {
     "data": {
      "text/plain": [
       "[<matplotlib.lines.Line2D at 0x14d890c2fc40>,\n",
       " <matplotlib.lines.Line2D at 0x14d890c2fd60>,\n",
       " <matplotlib.lines.Line2D at 0x14d890c2fe80>,\n",
       " <matplotlib.lines.Line2D at 0x14d890c2ffa0>]"
      ]
     },
     "execution_count": 103,
     "metadata": {},
     "output_type": "execute_result"
    },
    {
     "data": {
      "image/png": "[encoded data removed]",
      "text/plain": [
       "<Figure size 432x288 with 1 Axes>"
      ]
     },
     "metadata": {
      "needs_background": "light"
     },
     "output_type": "display_data"
    }
   ],
   "source": [
    "x = np.arange(0,20,0.5)\n",
    "y = np.zeros((len(x),int(np.log2(M)/2)))\n",
    "for i,SNR in enumerate(x):\n",
    "    QAMname=\"{}QAM\".format(M)\n",
    "    filename=QAMname+\"_{}\".format(SNR)\n",
    "    filename=dir_name+\"/\"+filename\n",
    "    res=np.loadtxt(filename)\n",
    "    #print(len(res))\n",
    "    y[i]=res[:len(res)//2]\n",
    "\n",
    "\n",
    "\n",
    "#change Y for fitting\n",
    "#y=1-y\n",
    "#y=np.log(y)\n",
    "\n",
    "\n",
    "plt.plot(x, y, 'b-', label='data')"
   ]
  },
  {
   "cell_type": "code",
   "execution_count": 104,
   "metadata": {},
   "outputs": [],
   "source": [
    "#save txt\n",
    "\n",
    "with open(QAMname,'w') as f:\n",
    "\n",
    "    print(\"#EsNodB,MI\",file=f)  \n",
    "    for i in range(len(x)):\n",
    "        print(str(x[i]),str(y[i,0]),str(y[i,1]),str(y[i,2]),str(y[i,3]),file=f)\n"
   ]
  },
  {
   "cell_type": "code",
   "execution_count": null,
   "metadata": {},
   "outputs": [],
   "source": [
    "import numpy as np\n",
    "from scipy.optimize import differential_evolution\n",
    "\n",
    "import matplotlib.pyplot as plt\n",
    "\n",
    "def ExpFitDiffEvol(N, x, y):\n",
    "    \"\"\"\n",
    "    Fits a multi-exponential decay by scipy.optimize.differential_evolution\n",
    "\n",
    "    Parameters\n",
    "    ----------\n",
    "    N : integer\n",
    "        number of exponentials.\n",
    "    x : (n) array_like\n",
    "        1-dimensional list of x-values.\n",
    "    y : (n), array_like\n",
    "        1-dimensional list of y-values.\n",
    "    Returns\n",
    "    -------\n",
    "    a : (N) array\n",
    "        solution prefactors in order a1, a2, ..., aN.\n",
    "    b : (N) array\n",
    "        solution exponents (positive) in order b1, b2, ..., bN.\n",
    "    red_chi_sq : float\n",
    "        reduced chi squared as calculated by the sum of squared residuals\n",
    "    Notes\n",
    "    -----\n",
    "    .. versionadded:: 1.0.0\n",
    "    No notes yet.\n",
    "    \"\"\"\n",
    "    x = np.asarray(x)\n",
    "    y = np.asarray(y)\n",
    "\n",
    "    bounds = [[min(x), max(x)]]*N + [[min(y), max(y)]]*N\n",
    "\n",
    "    def objective(s):\n",
    "        taui, fi = np.split(s, 2)\n",
    "        return np.sum((y - np.dot(fi, np.exp(-np.outer(1./taui, x))))**2.)\n",
    "\n",
    "    result = differential_evolution(objective, bounds)\n",
    "    print(result)\n",
    "    s = result['x']\n",
    "    red_chi_sq = objective(s)/(len(x)-len(s))\n",
    "    taui, fi = np.split(s, 2)\n",
    "    return fi, 1./taui, red_chi_sq\n"
   ]
  },
  {
   "cell_type": "code",
   "execution_count": null,
   "metadata": {},
   "outputs": [],
   "source": [
    "def EvalExpFit(x, a, b):\n",
    "    \"\"\"\n",
    "    Is used to evaluate multi-exponential function for parameter lists a, b\n",
    "\n",
    "    Parameters\n",
    "    ----------\n",
    "    x : (n) array_like\n",
    "        1-dimensional list of x-values.\n",
    "    a : (N) array_like\n",
    "        1-dimensional list of prefactors.\n",
    "    b : (N) array_like\n",
    "        1-dimensional list of exponents (positive).\n",
    "    Returns\n",
    "    -------\n",
    "    y : (n) array\n",
    "        y-values of the multi-exponential function corresponding to the x-values put in.\n",
    "    Notes\n",
    "    -----\n",
    "    .. versionadded:: 1.0.0\n",
    "    No notes yet.\n",
    "    \"\"\"\n",
    "    return np.dot(a, np.exp(-np.outer(b, x)))\n"
   ]
  },
  {
   "cell_type": "code",
   "execution_count": 90,
   "metadata": {},
   "outputs": [
    {
     "name": "stdout",
     "output_type": "stream",
     "text": [
      "     fun: 0.05747651120526938\n",
      "     jac: array([ 4.54636331e-06,  1.87350137e-06,  8.52998233e-06, -7.14706076e-08,\n",
      "       -6.49896803e-06, -6.56696916e-06, -6.14508444e-06,  2.97634833e-04])\n",
      " message: 'Optimization terminated successfully.'\n",
      "    nfev: 9753\n",
      "     nit: 79\n",
      " success: True\n",
      "       x: array([6.21330167e+00, 6.21017155e+00, 6.21830787e+00, 5.98759637e+00,\n",
      "       1.11021238e-01, 5.16048424e-01, 8.48512551e-02, 2.58622585e-05])\n",
      "[1.11021238e-01 5.16048424e-01 8.48512551e-02 2.58622585e-05]\n",
      "[0.16094503 0.16102615 0.16081545 0.16701193]\n"
     ]
    },
    {
     "data": {
      "image/png": "[encoded data removed]",
      "text/plain": [
       "<Figure size 432x288 with 1 Axes>"
      ]
     },
     "metadata": {
      "needs_background": "light"
     },
     "output_type": "display_data"
    }
   ],
   "source": [
    "a,b,red_chi_sq=ExpFitDiffEvol(4,x,y)\n",
    "print(a)\n",
    "print(b)\n",
    "yFit=EvalExpFit(x, a, b)  \n",
    "plt.plot(x,y,label='fitting')\n",
    "plt.plot(x, yFit,label='data')\n",
    "plt.show()"
   ]
  },
  {
   "cell_type": "code",
   "execution_count": null,
   "metadata": {},
   "outputs": [],
   "source": []
  }
 ],
 "metadata": {
  "interpreter": {
   "hash": "31f2aee4e71d21fbe5cf8b01ff0e069b9275f58929596ceb00d14d90e3e16cd6"
  },
  "kernelspec": {
   "display_name": "Python 3.8.10 64-bit",
   "language": "python",
   "name": "python3"
  },
  "language_info": {
   "codemirror_mode": {
    "name": "ipython",
    "version": 3
   },
   "file_extension": ".py",
   "mimetype": "text/x-python",
   "name": "python",
   "nbconvert_exporter": "python",
   "pygments_lexer": "ipython3",
   "version": "3.8.10"
  },
  "orig_nbformat": 4
 },
 "nbformat": 4,
 "nbformat_minor": 2
}
