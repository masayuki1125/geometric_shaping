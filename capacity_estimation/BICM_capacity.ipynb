{
 "cells": [
  {
   "cell_type": "code",
   "execution_count": null,
   "metadata": {},
   "outputs": [],
   "source": [
    "import numpy as np"
   ]
  },
  {
   "cell_type": "code",
   "execution_count": null,
   "metadata": {},
   "outputs": [],
   "source": [
    "#a=np.loadtxt(\"BMI_4PSK\")\n",
    "\n",
    "\n",
    "level=0\n",
    "filename=\"/home/kaneko/Dropbox/programming/geometric_shaping/polar_1024_512_4PSK_RCA_SC_level{}\".format(level)\n",
    "#/home/kaneko/Dropbox/programming/geometric_shaping/result/Polar/polar_1024_512_4QAM_RCA_SC\n",
    "b=np.loadtxt(filename)\n",
    "\n",
    "print(a[:,level+1])\n",
    "\n",
    "b[:,0]=a[:8,level+1]/2\n",
    "\n",
    "print(b)"
   ]
  },
  {
   "cell_type": "code",
   "execution_count": null,
   "metadata": {},
   "outputs": [],
   "source": [
    "np.savetxt(filename,b)"
   ]
  },
  {
   "cell_type": "code",
   "execution_count": null,
   "metadata": {},
   "outputs": [],
   "source": [
    "np.arange(0,30,0.5)"
   ]
  },
  {
   "cell_type": "code",
   "execution_count": null,
   "metadata": {},
   "outputs": [],
   "source": [
    "EsNodB_list=np.arange(0,30,0.5)\n",
    "for EsNodB in EsNodB_list:\n",
    "    filename=\"BMI/256PSK_{}\".format(EsNodB)\n",
    "    a=np.loadtxt(filename)\n",
    "    a/=10\n",
    "    np.savetxt(filename,a)\n"
   ]
  },
  {
   "cell_type": "code",
   "execution_count": null,
   "metadata": {},
   "outputs": [],
   "source": [
    "M=4\n",
    "EsNodB_list=np.arange(0,30,0.5)\n",
    "print(len(EsNodB_list))\n",
    "res=np.zeros((2,60))\n",
    "print(res.shape)\n",
    "for i,EsNodB in enumerate(EsNodB_list): \n",
    "    filename=\"BMI/{}PSK_{}\".format(M,EsNodB)\n",
    "    a=np.loadtxt(filename)\n",
    "   #print(i)\n",
    "    res[:,i]=a\n",
    "    \n",
    "print(res)\n",
    "\n"
   ]
  },
  {
   "cell_type": "code",
   "execution_count": null,
   "metadata": {},
   "outputs": [],
   "source": [
    "filename=\"BMI_16PSK\"\n",
    "with open(filename,'w') as f:\n",
    "\n",
    "    for i in range(res.shape[1]):\n",
    "        print(str(EsNodB_list[i]),str(res[0,i]),str(res[1,i]),str(res[2,i]),str(res[3,i]),file=f)"
   ]
  },
  {
   "cell_type": "code",
   "execution_count": null,
   "metadata": {},
   "outputs": [],
   "source": [
    "a=np.loadtxt(\"BMI_4QAM\")\n",
    "a[:,1]/2\n",
    "res=np.stack([a[:,0],a[:,1]/2,a[:,1]/2],axis=1)\n",
    "np.savetxt(\"BMI_4QAM\",res)"
   ]
  },
  {
   "cell_type": "code",
   "execution_count": null,
   "metadata": {},
   "outputs": [],
   "source": [
    "a=np.loadtxt(\"16QAM\")\n",
    "\n",
    "\n",
    "level=0\n",
    "filename=\"/home/kaneko/Dropbox/programming/geometric_shaping/polar_1024_512_16QAM_RCA_SC_level{}\".format(level)\n",
    "#/home/kaneko/Dropbox/programming/geometric_shaping/result/Polar/polar_1024_512_4QAM_RCA_SC\n",
    "b=np.loadtxt(filename)\n",
    "\n",
    "print(a[:,level+1])\n",
    "print(b)\n",
    "\n",
    "b[:,0]=a[:17,level+1]\n",
    "\n",
    "print(b)\n",
    "\n"
   ]
  },
  {
   "cell_type": "code",
   "execution_count": null,
   "metadata": {},
   "outputs": [],
   "source": [
    "np.savetxt(filename,b)"
   ]
  },
  {
   "cell_type": "code",
   "execution_count": null,
   "metadata": {},
   "outputs": [],
   "source": [
    "from calc_capacity import make_AMI\n",
    "from calc_capacity import make_BMI"
   ]
  },
  {
   "cell_type": "code",
   "execution_count": null,
   "metadata": {},
   "outputs": [],
   "source": [
    "make_BMI(1.0,16)"
   ]
  },
  {
   "cell_type": "code",
   "execution_count": null,
   "metadata": {},
   "outputs": [],
   "source": [
    "ver=1 #1:AMI 2:BMI\n",
    "\n",
    "ERR_accept=10**-3\n",
    "\n",
    "err=100\n",
    "EsNodB=3\n",
    "M=256\n",
    "R=1/2\n",
    "while err>ERR_accept:\n",
    "    if ver==1:\n",
    "        tmp=make_AMI(EsNodB,M)\n",
    "    elif ver==2:\n",
    "        tmp=make_BMI(EsNodB,M)\n",
    "    err=abs(np.log2(M)*R-tmp)\n",
    "    EsNodB+=(np.log2(M)*R-tmp)*0.1\n",
    "    print(EsNodB,err,tmp)\n",
    "    \n",
    "print(EsNodB)"
   ]
  },
  {
   "cell_type": "code",
   "execution_count": 12,
   "metadata": {},
   "outputs": [],
   "source": [
    "import math\n",
    "import numpy as np\n",
    "import cupy as cp\n",
    "#pool = cp.cuda.MemoryPool(cp.cuda.malloc_managed)\n",
    "#cp.cuda.set_allocator(pool.malloc)\n",
    "import sys\n",
    "import os\n",
    "from scipy.stats import norm\n",
    "import matplotlib.pyplot as plt\n",
    "sys.path.append(os.path.join(os.path.dirname('__file__'), '..'))\n",
    "\n",
    "from modulation.modulation import QAMModem\n",
    "from modulation.modulation import PSKModem\n",
    "\n",
    "\n",
    "# In[101]:\n",
    "\n",
    "\n",
    "def add_AWGN_GPU(constellation,No):\n",
    "  # AWGN雑音の生成\n",
    "  noise = cp.random.normal(0, math.sqrt(No / 2), (len(constellation)))           + 1j * cp.random.normal(0, math.sqrt(No / 2), (len(constellation)))\n",
    "\n",
    "  # AWGN通信路 = 送信シンボル間干渉が生じないような通信路で送信\n",
    "  RX_constellation = constellation + noise\n",
    "\n",
    "  # 以下のprint関数の出力を表示すると、Noとほぼ一致するはず\n",
    "  #print(cp.dot(noise[0, :], cp.conj(noise[0, :]))/bit_num)\n",
    "\n",
    "  return RX_constellation\n",
    "\n",
    "\n",
    "# In[102]:\n",
    "\n",
    "\n",
    "def make_AMI(EsNodB,M):\n",
    "    modem_ver=0 #0:QAMModem 1:PSKModem\n",
    "    \n",
    "  \n",
    "    EsNo = 10 ** (EsNodB / 10)\n",
    "    No=1/EsNo\n",
    "    count_num=10000000\n",
    "\n",
    "    #make info matrices\n",
    "    info=cp.random.randint(0,M,count_num)\n",
    "\n",
    "    #make constellation\n",
    "    if M!=2:\n",
    "        if modem_ver==0:\n",
    "            modem=QAMModem(M)\n",
    "        elif modem_ver==1:\n",
    "            modem=PSKModem(M)\n",
    "        else:\n",
    "            print(\"modem version error\")\n",
    "    \n",
    "    \n",
    "        tmp=modem.code_book\n",
    "        symbol=cp.zeros(M,dtype=complex)\n",
    "        for i in tmp:\n",
    "            symbol[modem.bin2de(i)]=tmp[i]\n",
    "        \n",
    "    elif M==2:\n",
    "        symbol=cp.array([-1,1])\n",
    "        \n",
    "    mat_symbol=cp.tile(symbol,(count_num,1))\n",
    "    const=cp.take_along_axis(mat_symbol,info[:,None],axis=1)[:,0]\n",
    "    \n",
    "\n",
    "    #if cp.any(symbol==const)!=True:\n",
    "        #print(\"error\")\n",
    "        #print(symbol)\n",
    "        #print(const)\n",
    "\n",
    "    RX_const=add_AWGN_GPU(const,No)\n",
    "        \n",
    "    num=cp.sum(cp.exp(-1*cp.abs(np.tile(RX_const,(len(symbol),1))-symbol.reshape(-1,1))**2/No),axis=0)\n",
    "    \n",
    "    den=cp.exp(-1*cp.abs(RX_const-const)**2/No)\n",
    "    H=cp.sum(cp.log2(num/den))\n",
    "    H/=count_num\n",
    "    res=math.log2(M)-H\n",
    "    return res"
   ]
  },
  {
   "cell_type": "code",
   "execution_count": 13,
   "metadata": {},
   "outputs": [
    {
     "data": {
      "text/plain": [
       "array(0.98973057)"
      ]
     },
     "execution_count": 13,
     "metadata": {},
     "output_type": "execute_result"
    }
   ],
   "source": [
    "make_AMI(0,16)"
   ]
  },
  {
   "cell_type": "code",
   "execution_count": 22,
   "metadata": {},
   "outputs": [
    {
     "name": "stdout",
     "output_type": "stream",
     "text": [
      "[ 0.   0.5  1.   1.5  2.   2.5  3.   3.5  4.   4.5  5.   5.5  6.   6.5\n",
      "  7.   7.5  8.   8.5  9.   9.5 10.  10.5 11.  11.5 12.  12.5 13.  13.5\n",
      " 14.  14.5 15.  15.5 16.  16.5 17.  17.5 18.  18.5 19.  19.5 20.  20.5]\n",
      "0.0\n",
      "0.5\n",
      "1.0\n",
      "1.5\n",
      "2.0\n",
      "2.5\n",
      "3.0\n",
      "3.5\n",
      "4.0\n",
      "4.5\n",
      "5.0\n",
      "5.5\n",
      "6.0\n",
      "6.5\n",
      "7.0\n",
      "7.5\n",
      "8.0\n",
      "8.5\n",
      "9.0\n",
      "9.5\n",
      "10.0\n",
      "10.5\n",
      "11.0\n",
      "11.5\n",
      "12.0\n",
      "12.5\n",
      "13.0\n",
      "13.5\n",
      "14.0\n",
      "14.5\n",
      "15.0\n",
      "15.5\n",
      "16.0\n",
      "16.5\n",
      "17.0\n",
      "17.5\n",
      "18.0\n",
      "18.5\n",
      "19.0\n",
      "19.5\n",
      "20.0\n",
      "20.5\n"
     ]
    }
   ],
   "source": [
    "import numpy as np\n",
    "\n",
    "M=16\n",
    "#EsNodB=10.0\n",
    "EsNodB_list=np.arange(0,21,0.5)\n",
    "res=np.zeros(len(EsNodB_list))\n",
    "print(EsNodB_list)\n",
    "for i in range(len(EsNodB_list)):\n",
    "    EsNodB=EsNodB_list[i]\n",
    "    print(EsNodB)\n",
    "    filename=\"BMI/{}QAM_{}\".format(M,EsNodB)\n",
    "    a=np.loadtxt(filename)\n",
    "    #print(a)\n",
    "    #res=make_AMI(EsNodB,M)\n",
    "    #print(res[i])\n",
    "    #print(res)\n",
    "    #res_seq=a\n",
    "    ##from IPython.core.debugger import Pdb; Pdb().set_trace()\n",
    "    a[1]*=1.1\n",
    "    a[3]*=1.1    \n",
    "    #if np.any(a>res_seq):\n",
    "    #    print(\"error!!\")\n",
    "    #print(a)\n",
    "    filename_res=\"BMI_polar/{}QAM_{}\".format(M,EsNodB)\n",
    "    np.savetxt(filename_res,a)\n",
    "np.savetxt(\"ami\",res)"
   ]
  },
  {
   "cell_type": "code",
   "execution_count": null,
   "metadata": {},
   "outputs": [],
   "source": []
  }
 ],
 "metadata": {
  "interpreter": {
   "hash": "31f2aee4e71d21fbe5cf8b01ff0e069b9275f58929596ceb00d14d90e3e16cd6"
  },
  "kernelspec": {
   "display_name": "Python 3.8.10 64-bit",
   "language": "python",
   "name": "python3"
  },
  "language_info": {
   "codemirror_mode": {
    "name": "ipython",
    "version": 3
   },
   "file_extension": ".py",
   "mimetype": "text/x-python",
   "name": "python",
   "nbconvert_exporter": "python",
   "pygments_lexer": "ipython3",
   "version": "3.8.10"
  },
  "orig_nbformat": 4
 },
 "nbformat": 4,
 "nbformat_minor": 2
}
