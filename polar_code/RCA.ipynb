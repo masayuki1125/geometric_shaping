{
 "cells": [
  {
   "cell_type": "code",
   "execution_count": 2,
   "metadata": {},
   "outputs": [],
   "source": [
    "import sys\n",
    "import os\n",
    "sys.path.append(os.path.join(os.path.dirname('__file__'), '..'))\n",
    "from capacity_estimation.calc_capacity_for_polarized import make_BMI_list \n",
    "#from capacity_estimation.calc_capacity import make_BMI_list \n",
    "from RCA import RCA"
   ]
  },
  {
   "cell_type": "code",
   "execution_count": null,
   "metadata": {},
   "outputs": [],
   "source": [
    "N=1024\n",
    "K=512\n",
    "RCA.main_const()"
   ]
  },
  {
   "cell_type": "code",
   "execution_count": 1,
   "metadata": {},
   "outputs": [
    {
     "name": "stdout",
     "output_type": "stream",
     "text": [
      "10\n",
      "1\n",
      "2\n",
      "3\n",
      "4\n",
      "5\n",
      "6\n",
      "7\n",
      "8\n",
      "9\n",
      "10\n"
     ]
    },
    {
     "data": {
      "text/plain": [
       "16.0"
      ]
     },
     "execution_count": 1,
     "metadata": {},
     "output_type": "execute_result"
    }
   ],
   "source": [
    "import numpy as np\n",
    "import math\n",
    "\n",
    "N=1024\n",
    "n=int(math.log2(N))\n",
    "print(n)\n",
    "for i in range(1,n+1):\n",
    "    print(i)\n",
    "\n",
    "4/2*2**3"
   ]
  },
  {
   "cell_type": "code",
   "execution_count": 3,
   "metadata": {},
   "outputs": [
    {
     "name": "stdout",
     "output_type": "stream",
     "text": [
      "[1 3 2 4]\n"
     ]
    }
   ],
   "source": [
    "a=np.array([0,2,1,3])\n",
    "b=np.array([1,2,3,4])\n",
    "print(b[a])"
   ]
  },
  {
   "cell_type": "code",
   "execution_count": 62,
   "metadata": {},
   "outputs": [],
   "source": [
    "class RCA():\n",
    "    @staticmethod\n",
    "    def reverse(index,n):\n",
    "        '''\n",
    "        make n into bit reversal order\n",
    "        '''\n",
    "        tmp=format (index,'b')\n",
    "        tmp=tmp.zfill(n+1)[:0:-1]\n",
    "        res=int(tmp,2) \n",
    "        return res"
   ]
  },
  {
   "cell_type": "code",
   "execution_count": 63,
   "metadata": {},
   "outputs": [],
   "source": [
    "class RCA(RCA):\n",
    "    @staticmethod\n",
    "    def indices_of_elements(v,l):\n",
    "        tmp=np.argsort(v)\n",
    "        res=tmp[0:l]\n",
    "        return res"
   ]
  },
  {
   "cell_type": "code",
   "execution_count": 64,
   "metadata": {},
   "outputs": [],
   "source": [
    "class RCA(RCA):\n",
    "    def main_const(self,N,K,design_SNR,M):\n",
    "        '''\n",
    "        design_SNR:EsNodB\n",
    "        '''\n",
    "        #design SNRが複数あるかどうか判定する\n",
    "        if type(design_SNR).__module__ != np.__name__:\n",
    "            design_SNR=design_SNR*np.ones(N)\n",
    "        elif len(design_SNR)!=N:\n",
    "            print(\"design_SNR_len_error!\")\n",
    "        \n",
    "        xi_dB=np.log(design_SNR)\n",
    "        \n",
    "        if M=2:#BPSK modulation\n",
    "            xi=10**(xi_dB/10)\n",
    "        elif M=4#QAM modulation\n",
    "            xi=\n",
    "        \n",
    "        n=int(math.log2(N))\n",
    "        for i in range(1,n+1):\n",
    "            J=2**i\n",
    "            for k in range(0,int(N/J)-1):\n",
    "                for j in range(0,int(J/2)-1):\n",
    "                    xi0=xi[k*J+j]\n",
    "                    xi1=xi[k*J+j+int(J/2)] \n",
    "                    lambda0=calc_lambda(xi0)\n",
    "                    lambda1=calc_lambda(xi1)\n",
    "                    xi[k*J+j]=calc_lambda(max(lambda0,lambda1)+math.log(1+math.exp(-1*abs(lambda0-lambda1))))\n",
    "                    xi[k*J+j+int(J/2)]=max(xi0,xi1)+math.log(1+math.exp(-1*abs(xi0-xi1)))\n",
    "        #return xi\n",
    "    \n",
    "        tmp=self.indices_of_elements(xi,N)\n",
    "        frozen_bits=np.sort(tmp[:N-K])\n",
    "        info_bits=np.sort(tmp[N-K:])\n",
    "        \n",
    "        #bit reversal order\n",
    "        for i in range(len(frozen_bits)):\n",
    "            frozen_bits[i]=self.reverse(frozen_bits[i],n)\n",
    "        frozen_bits=np.sort(frozen_bits)\n",
    "            \n",
    "        for i in range(len(info_bits)):\n",
    "            info_bits[i]=self.reverse(info_bits[i],n)\n",
    "        info_bits=np.sort(info_bits)\n",
    "        \n",
    "        return frozen_bits,info_bits"
   ]
  },
  {
   "cell_type": "code",
   "execution_count": 65,
   "metadata": {},
   "outputs": [],
   "source": [
    "class RCA(RCA):\n",
    "    @staticmethod\n",
    "    def calc_lambda(xi):\n",
    "        Alpha=1.16125\n",
    "        Gamma1=0.04\n",
    "        Gamma2=1\n",
    "        Gamma3=10\n",
    "        Xi0=-11.3143\n",
    "        C1=0.55523\n",
    "        C2=0.721452\n",
    "        H21=1.396634\n",
    "        H22=0.872764\n",
    "        H23=1.148562\n",
    "        H31=1.266967\n",
    "        H32=0.938175\n",
    "        H33=0.986830\n",
    "\n",
    "        if xi<Xi0:\n",
    "            B=math.log(2)+2*math.log(math.log(2))+2*math.log(Alpha)-2*xi\n",
    "            return math.log(B+(1/B-1)*math.log(B))-math.log(2)\n",
    "\n",
    "        gamma=math.exp(xi)\n",
    "        if gamma>Gamma3:\n",
    "            return math.log(math.log(2))+math.log(Alpha)-gamma-xi/2\n",
    "\n",
    "        elif gamma<Gamma1:\n",
    "            U=1-(gamma-gamma**2+4/3*gamma**3)/math.log(2)\n",
    "\n",
    "        elif gamma<Gamma2:\n",
    "            U=1-(1-math.exp(-1*H21*(gamma**H22)))**H23\n",
    "            \n",
    "        else:\n",
    "            U=1-(1-math.exp(-1*H31*(gamma**H32)))*H33\n",
    "            \n",
    "        if U<C1:\n",
    "            A=(-5+24*math.log(2)*U+2*math.sqrt(13+12*math.log(2)*U*(12*math.log(2)*U-5)))**(1/3)\n",
    "            return math.log(1-3/A+A)-2*math.log(2)\n",
    "            \n",
    "        elif U<C2:\n",
    "            return (math.log(-1*math.log(1-U**(1/H23)))-math.log(H21))/H22\n",
    "\n",
    "        else:\n",
    "            return (math.log(-1*math.log(1-U**(1/H33)))-math.log(H31))/H32"
   ]
  },
  {
   "cell_type": "code",
   "execution_count": 66,
   "metadata": {},
   "outputs": [],
   "source": [
    "#import matplotlib.pyplot as plt\n",
    "\n",
    "#x=np.arange(-1000,800)\n",
    "#y=np.zeros((len(x)))\n",
    "#for i,a in enumerate(x):\n",
    "#    y[i]=calc_lambda(a)\n",
    "    \n",
    "#plt.plot(x, y)"
   ]
  },
  {
   "cell_type": "code",
   "execution_count": 67,
   "metadata": {},
   "outputs": [],
   "source": [
    "import math\n",
    "import sys\n",
    "import os\n",
    "sys.path.append(os.path.join(os.path.dirname('__file__'), '..'))\n",
    "from capacity_estimation.calc_capacity import make_BMI "
   ]
  },
  {
   "cell_type": "code",
   "execution_count": 68,
   "metadata": {},
   "outputs": [
    {
     "data": {
      "text/plain": [
       "array([0.41763075, 0.11726168, 0.41734355, 0.11723453])"
      ]
     },
     "execution_count": 68,
     "metadata": {},
     "output_type": "execute_result"
    }
   ],
   "source": [
    "make_BMI(1,16)\n"
   ]
  },
  {
   "cell_type": "code",
   "execution_count": 17,
   "metadata": {},
   "outputs": [],
   "source": [
    "import numpy as np\n",
    "from modulation.modulation import QAMModem\n"
   ]
  },
  {
   "cell_type": "code",
   "execution_count": 18,
   "metadata": {},
   "outputs": [],
   "source": [
    "modem=QAMModem(16)"
   ]
  },
  {
   "cell_type": "code",
   "execution_count": 19,
   "metadata": {},
   "outputs": [
    {
     "data": {
      "text/plain": [
       "array([-0.9486833+0.31622777j])"
      ]
     },
     "execution_count": 19,
     "metadata": {},
     "output_type": "execute_result"
    }
   ],
   "source": [
    "a=np.array([0,0,0,1])\n",
    "modem.modulate(a)"
   ]
  },
  {
   "cell_type": "code",
   "execution_count": 20,
   "metadata": {},
   "outputs": [],
   "source": [
    "def calc_J_inv1(I):\n",
    "    '''\n",
    "    input:\n",
    "    I:mutual information\n",
    "    output:\n",
    "    gamma:channel SNR Es/No\n",
    "    ----\n",
    "    referrence:\n",
    "    POLAR CODES FOR ERROR CORRECTION:\n",
    "    ANALYSIS AND DECODING ALGORITHMS\n",
    "    p37\n",
    "    (4.5)\n",
    "    '''\n",
    "    if I>1 or I<0:\n",
    "        print(\"I is err\")\n",
    "    \n",
    "    a1=1.09542\n",
    "    b1=0.214217\n",
    "    c1=2.33727\n",
    "    a2=0.706692\n",
    "    b2=0.386013\n",
    "    c2=-1.75017\n",
    "    I_thresh=0.3646\n",
    "    \n",
    "    if I<I_thresh:\n",
    "        sigma=a1*I**2+b1*I+c1*I**(1/2)\n",
    "    else:\n",
    "        sigma=-a2*np.math.log(b2*(1-I))-c2*I\n",
    "        \n",
    "    gamma=sigma**2/8\n",
    "    #gamma_dB=10*math.log10(gamma)\n",
    "    return gamma\n",
    "    "
   ]
  },
  {
   "cell_type": "code",
   "execution_count": 21,
   "metadata": {},
   "outputs": [],
   "source": [
    "def calc_J_inv2(I):\n",
    "    def A(c):\n",
    "        return (-5+24*np.log(2)*c+2*(13+12*np.log(2)*c*(12*np.log(2)*c-5))**(1/2))**(1/3)\n",
    "    \n",
    "    def W0(x):\n",
    "        '''\n",
    "        Lambert W function\n",
    "        reference:\n",
    "        On the lambert W function\n",
    "        (3.1)\n",
    "        '''\n",
    "        def a(n):\n",
    "            ((-n)**(n-1)/np.math.factorial(n))*x**n\n",
    "            \n",
    "            \n",
    "        res=0\n",
    "        for i in range(100):\n",
    "            res+=a(i)\n",
    "        return res\n",
    "            \n",
    "        \n",
    "    C1=0.055523\n",
    "    C2=0.721452\n",
    "    C3=0.999983\n",
    "    H21=1.396634\n",
    "    H22=0.872764\n",
    "    H23=1.148562\n",
    "    H31=1.266967\n",
    "    H32=0.938175\n",
    "    H33=0.986830\n",
    "    alpha=1.16125\n",
    "    \n",
    "    if I<C1:\n",
    "        gamma=1/4*(1-3/A(I)+A(I))\n",
    "        \n",
    "    elif I<C2:\n",
    "        gamma=(-1/H21*np.log(1-I**(1/H23)))**(1/H22)\n",
    "        \n",
    "    elif I<C3:\n",
    "        gamma=(-1/H31*np.log(1-I**(1/H33)))**(1/H32)\n",
    "    \n",
    "    else:\n",
    "        gamma=1/2*W0(2*(alpha/(1-I))**2)\n",
    "    \n",
    "    return gamma"
   ]
  },
  {
   "cell_type": "code",
   "execution_count": 22,
   "metadata": {},
   "outputs": [
    {
     "data": {
      "text/plain": [
       "[<matplotlib.lines.Line2D at 0x146cf39e2fd0>]"
      ]
     },
     "execution_count": 22,
     "metadata": {},
     "output_type": "execute_result"
    },
    {
     "data": {
      "image/png": "[encoded data removed]",
      "text/plain": [
       "<Figure size 432x288 with 1 Axes>"
      ]
     },
     "metadata": {
      "needs_background": "light"
     },
     "output_type": "display_data"
    }
   ],
   "source": [
    "import numpy as np\n",
    "y=np.arange(0.001,1,0.001)\n",
    "x1=np.zeros(len(y))\n",
    "x2=np.zeros(len(y))\n",
    "for i,a in enumerate(y):  \n",
    "    x1[i]=calc_J_inv1(a)\n",
    "    x2[i]=calc_J_inv2(a)\n",
    "    \n",
    "import matplotlib.pyplot as plt\n",
    "plt.plot(x1, y)\n",
    "plt.plot(x2, y)"
   ]
  },
  {
   "cell_type": "code",
   "execution_count": 56,
   "metadata": {},
   "outputs": [],
   "source": [
    "with open(\"BPSK_MI\",'w') as f: \n",
    "        for i in range(len(x)):\n",
    "            print(str(x[i]),str(y[i]),file=f)"
   ]
  },
  {
   "cell_type": "code",
   "execution_count": null,
   "metadata": {},
   "outputs": [],
   "source": []
  }
 ],
 "metadata": {
  "interpreter": {
   "hash": "31f2aee4e71d21fbe5cf8b01ff0e069b9275f58929596ceb00d14d90e3e16cd6"
  },
  "kernelspec": {
   "display_name": "Python 3.8.10 64-bit",
   "language": "python",
   "name": "python3"
  },
  "language_info": {
   "codemirror_mode": {
    "name": "ipython",
    "version": 3
   },
   "file_extension": ".py",
   "mimetype": "text/x-python",
   "name": "python",
   "nbconvert_exporter": "python",
   "pygments_lexer": "ipython3",
   "version": "3.8.10"
  },
  "orig_nbformat": 4
 },
 "nbformat": 4,
 "nbformat_minor": 2
}
