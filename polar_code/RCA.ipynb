{
 "cells": [
  {
   "cell_type": "code",
   "execution_count": 59,
   "metadata": {},
   "outputs": [],
   "source": [
    "import numpy as np\n",
    "import math"
   ]
  },
  {
   "cell_type": "code",
   "execution_count": 60,
   "metadata": {},
   "outputs": [],
   "source": [
    "class RCA():\n",
    "    @staticmethod\n",
    "    def reverse(index,n):\n",
    "        '''\n",
    "        make n into bit reversal order\n",
    "        '''\n",
    "        tmp=format (index,'b')\n",
    "        tmp=tmp.zfill(n+1)[:0:-1]\n",
    "        res=int(tmp,2) \n",
    "        return res"
   ]
  },
  {
   "cell_type": "code",
   "execution_count": 61,
   "metadata": {},
   "outputs": [],
   "source": [
    "class RCA(RCA):\n",
    "    @staticmethod\n",
    "    def indices_of_elements(v,l):\n",
    "        tmp=np.argsort(v)\n",
    "        res=tmp[0:l]\n",
    "        return res"
   ]
  },
  {
   "cell_type": "code",
   "execution_count": 62,
   "metadata": {},
   "outputs": [],
   "source": [
    "class RCA(RCA):\n",
    "    def main_const(self,N,K,design_SNR):\n",
    "        #design SNRが複数あるかどうか判定する\n",
    "        if type(design_SNR).__module__ != np.__name__:\n",
    "            design_SNR=design_SNR*np.ones(N)\n",
    "        elif len(design_SNR)!=N:\n",
    "            print(\"design_SNR_len_error!\")\n",
    "            \n",
    "        xi=np.log(design_SNR)\n",
    "        \n",
    "        n=int(math.log2(N))\n",
    "        for i in range(1,n+1):\n",
    "            J=2**i\n",
    "            for k in range(0,int(N/J)-1):\n",
    "                for j in range(0,int(J/2)-1):\n",
    "                    xi0=xi[k*J+j]\n",
    "                    xi1=xi[k*J+j+int(J/2)] \n",
    "                    lambda0=calc_lambda(xi0)\n",
    "                    lambda1=calc_lambda(xi1)\n",
    "                    xi[k*J+j]=calc_lambda(max(lambda0,lambda1)+math.log(1+math.exp(-1*abs(lambda0-lambda1))))\n",
    "                    xi[k*J+j+int(J/2)]=max(xi0,xi1)+math.log(1+math.exp(-1*abs(xi0-xi1)))\n",
    "        #return xi\n",
    "    \n",
    "        tmp=self.indices_of_elements(xi,N)\n",
    "        frozen_bits=np.sort(tmp[:N-K])\n",
    "        info_bits=np.sort(tmp[N-K:])\n",
    "        \n",
    "        #bit reversal order\n",
    "        for i in range(len(frozen_bits)):\n",
    "            frozen_bits[i]=self.reverse(frozen_bits[i],n)\n",
    "        frozen_bits=np.sort(frozen_bits)\n",
    "            \n",
    "        for i in range(len(info_bits)):\n",
    "            info_bits[i]=self.reverse(info_bits[i],n)\n",
    "        info_bits=np.sort(info_bits)\n",
    "        \n",
    "        return frozen_bits,info_bits"
   ]
  },
  {
   "cell_type": "code",
   "execution_count": 63,
   "metadata": {},
   "outputs": [],
   "source": [
    "class RCA(RCA):\n",
    "    @staticmethod\n",
    "    def calc_lambda(xi):\n",
    "        Alpha=1.16125\n",
    "        Gamma1=0.04\n",
    "        Gamma2=1\n",
    "        Gamma3=10\n",
    "        Xi0=-11.3143\n",
    "        C1=0.55523\n",
    "        C2=0.721452\n",
    "        H21=1.396634\n",
    "        H22=0.872764\n",
    "        H23=1.148562\n",
    "        H31=1.266967\n",
    "        H32=0.938175\n",
    "        H33=0.986830\n",
    "\n",
    "        if xi<Xi0:\n",
    "            B=math.log(2)+2*math.log(math.log(2))+2*math.log(Alpha)-2*xi\n",
    "            return math.log(B+(1/B-1)*math.log(B))-math.log(2)\n",
    "\n",
    "        gamma=math.exp(xi)\n",
    "        if gamma>Gamma3:\n",
    "            return math.log(math.log(2))+math.log(Alpha)-gamma-xi/2\n",
    "\n",
    "        elif gamma<Gamma1:\n",
    "            U=1-(gamma-gamma**2+4/3*gamma**3)/math.log(2)\n",
    "\n",
    "        elif gamma<Gamma2:\n",
    "            U=1-(1-math.exp(-1*H21*(gamma**H22)))**H23\n",
    "            \n",
    "        else:\n",
    "            U=1-(1-math.exp(-1*H31*(gamma**H32)))*H33\n",
    "            \n",
    "        if U<C1:\n",
    "            A=(-5+24*math.log(2)*U+2*math.sqrt(13+12*math.log(2)*U*(12*math.log(2)*U-5)))**(1/3)\n",
    "            return math.log(1-3/A+A)-2*math.log(2)\n",
    "            \n",
    "        elif U<C2:\n",
    "            return (math.log(-1*math.log(1-U**(1/H23)))-math.log(H21))/H22\n",
    "\n",
    "        else:\n",
    "            return (math.log(-1*math.log(1-U**(1/H33)))-math.log(H31))/H32"
   ]
  },
  {
   "cell_type": "code",
   "execution_count": 64,
   "metadata": {},
   "outputs": [],
   "source": [
    "#import matplotlib.pyplot as plt\n",
    "\n",
    "#x=np.arange(-1000,800)\n",
    "#y=np.zeros((len(x)))\n",
    "#for i,a in enumerate(x):\n",
    "#    y[i]=calc_lambda(a)\n",
    "    \n",
    "#plt.plot(x, y)"
   ]
  }
 ],
 "metadata": {
  "interpreter": {
   "hash": "31f2aee4e71d21fbe5cf8b01ff0e069b9275f58929596ceb00d14d90e3e16cd6"
  },
  "kernelspec": {
   "display_name": "Python 3.8.10 64-bit",
   "language": "python",
   "name": "python3"
  },
  "language_info": {
   "codemirror_mode": {
    "name": "ipython",
    "version": 3
   },
   "file_extension": ".py",
   "mimetype": "text/x-python",
   "name": "python",
   "nbconvert_exporter": "python",
   "pygments_lexer": "ipython3",
   "version": "3.8.10"
  },
  "orig_nbformat": 4
 },
 "nbformat": 4,
 "nbformat_minor": 2
}
