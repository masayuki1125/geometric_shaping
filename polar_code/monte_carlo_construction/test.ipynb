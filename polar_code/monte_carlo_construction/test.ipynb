{
 "cells": [
  {
   "cell_type": "code",
   "execution_count": 1,
   "metadata": {},
   "outputs": [],
   "source": [
    "import numpy as np\n"
   ]
  },
  {
   "cell_type": "code",
   "execution_count": 95,
   "metadata": {},
   "outputs": [
    {
     "name": "stdout",
     "output_type": "stream",
     "text": [
      "1.5826823549115563\n"
     ]
    }
   ],
   "source": [
    "EsNodB=3\n",
    "EsNo=10**(EsNodB/10)\n",
    "capacity=np.log2(1+EsNo)\n",
    "print(capacity)\n"
   ]
  },
  {
   "cell_type": "code",
   "execution_count": 7,
   "metadata": {},
   "outputs": [
    {
     "name": "stdout",
     "output_type": "stream",
     "text": [
      "-2.044642243185206\n"
     ]
    }
   ],
   "source": [
    "c=0.7\n",
    "EsNo_hat=2**c-1\n",
    "EsNodB_hat=10*np.log10(EsNo_hat)\n",
    "print(EsNodB_hat)"
   ]
  },
  {
   "cell_type": "code",
   "execution_count": 8,
   "metadata": {},
   "outputs": [
    {
     "data": {
      "text/plain": [
       "32"
      ]
     },
     "execution_count": 8,
     "metadata": {},
     "output_type": "execute_result"
    }
   ],
   "source": [
    "2**5"
   ]
  },
  {
   "cell_type": "code",
   "execution_count": 18,
   "metadata": {},
   "outputs": [
    {
     "data": {
      "text/plain": [
       "115792089237316195423570985008687907853269984665640564039457584007913129639936"
      ]
     },
     "execution_count": 18,
     "metadata": {},
     "output_type": "execute_result"
    }
   ],
   "source": [
    "2**(256)\n",
    "#2**4*128\n",
    "#2**(2**2)"
   ]
  },
  {
   "cell_type": "code",
   "execution_count": 147,
   "metadata": {},
   "outputs": [
    {
     "name": "stderr",
     "output_type": "stream",
     "text": [
      "/tmp/ipykernel_137644/218792642.py:14: RuntimeWarning: divide by zero encountered in log2\n",
      "  a=np.nan_to_num(res*np.log2(res))\n",
      "/tmp/ipykernel_137644/218792642.py:14: RuntimeWarning: invalid value encountered in multiply\n",
      "  a=np.nan_to_num(res*np.log2(res))\n"
     ]
    },
    {
     "name": "stdout",
     "output_type": "stream",
     "text": [
      "1.6799385291758775\n",
      "0.7578125 0.15625 0.0859375\n",
      "abondant MI\n",
      "215.03213173451232\n",
      "0.17262878803468285\n"
     ]
    },
    {
     "data": {
      "image/png": "[encoded data removed]",
      "text/plain": [
       "<Figure size 432x288 with 1 Axes>"
      ]
     },
     "metadata": {
      "image/png": {
       "height": 248,
       "width": 372
      },
      "needs_background": "light"
     },
     "output_type": "display_data"
    }
   ],
   "source": [
    "import numpy as np\n",
    "import matplotlib.pyplot as plt\n",
    "%config InlineBackend.figure_formats = {'png', 'retina'}\n",
    "M_list=[4,16,256]\n",
    "K=128\n",
    "M=4\n",
    "N=int(np.log2(M))*K\n",
    "filename=\"{}QAM_{}_{}_BICM\".format(M,N,5.0)\n",
    "a=np.loadtxt(filename)\n",
    "a=np.clip(a,None,5*10**5)\n",
    "res=a/10**6\n",
    "\n",
    "\n",
    "a=np.nan_to_num(res*np.log2(res))\n",
    "b=np.nan_to_num((1-res)*np.log2(1-res))\n",
    "\n",
    "res=1+(a+b)\n",
    "\n",
    "res=np.sort(res)\n",
    "\n",
    "plt.plot(np.arange(N),res)\n",
    "\n",
    "threshold=0.1\n",
    "print(np.sum(res)/K)\n",
    "\n",
    "high=np.sum((1-threshold)<=res)\n",
    "middle=np.sum(((1-threshold)>res)*(res>threshold)) #中ぐらいの情報量を持つビット\n",
    "low=np.sum(res<=threshold)\n",
    "print(high/N,middle/N,low/N)\n",
    "\n",
    "print(\"abondant MI\")\n",
    "print(np.sum(res))\n",
    "print(np.sum(res[(1-threshold)>res])/K)"
   ]
  }
 ],
 "metadata": {
  "interpreter": {
   "hash": "31f2aee4e71d21fbe5cf8b01ff0e069b9275f58929596ceb00d14d90e3e16cd6"
  },
  "kernelspec": {
   "display_name": "Python 3.8.10 64-bit",
   "language": "python",
   "name": "python3"
  },
  "language_info": {
   "codemirror_mode": {
    "name": "ipython",
    "version": 3
   },
   "file_extension": ".py",
   "mimetype": "text/x-python",
   "name": "python",
   "nbconvert_exporter": "python",
   "pygments_lexer": "ipython3",
   "version": "3.8.10"
  },
  "orig_nbformat": 4
 },
 "nbformat": 4,
 "nbformat_minor": 2
}
