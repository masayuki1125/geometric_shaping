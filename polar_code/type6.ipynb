{
 "cells": [
  {
   "cell_type": "code",
   "execution_count": 1,
   "metadata": {},
   "outputs": [],
   "source": [
    "import numpy as np\n",
    "\n",
    "from monte_carlo_construction import monte_carlo\n",
    "from RCA import RCA\n",
    "from iGA import Improved_GA\n",
    "\n",
    "import sys\n",
    "import os\n",
    "sys.path.append(os.path.join(os.path.dirname('__file__'), '..'))\n",
    "from capacity_estimation.calc_capacity import make_BMI_list "
   ]
  },
  {
   "cell_type": "code",
   "execution_count": 28,
   "metadata": {},
   "outputs": [],
   "source": [
    "\n",
    "\n",
    "class constant_class():\n",
    "    const=RCA()\n",
    "    N=1024\n",
    "    K=512\n",
    "    \n",
    "    #print(BICM_int)\n",
    "    design_SNR=0.0\n",
    "    M=16\n",
    "\n",
    "cst=constant_class()\n",
    "\n",
    "def construction(cst,BICM_int):\n",
    "    \n",
    "    frozen_bits,info_bits=cst.const.main_const(cst.N,cst.K,cst.design_SNR,cst.M,BICM_int=BICM_int)\n",
    "\n",
    "    BICM_int=np.concatenate([info_bits,frozen_bits])\n",
    "\n",
    "    tmp=make_BMI_list(cst.design_SNR,cst.M)\n",
    "\n",
    "    argtmp=np.argsort(tmp[:len(tmp)//2])\n",
    "\n",
    "    BICM_int=np.reshape(BICM_int,[int(np.log2(cst.M**(1/2))),-1],order='C')\n",
    "\n",
    "    BICM_int=BICM_int[argtmp,:]\n",
    "\n",
    "    BICM_int=np.ravel(BICM_int,order='F')\n",
    "    \n",
    "    interleaver_check(cst,BICM_int,info_bits)\n",
    "    \n",
    "    return BICM_int"
   ]
  },
  {
   "cell_type": "code",
   "execution_count": 29,
   "metadata": {},
   "outputs": [],
   "source": [
    "#確認\n",
    "def interleaver_check(cst,BICM_int,info_bits):\n",
    "    \n",
    "    BICM_deint=np.argsort(BICM_int)\n",
    "    \n",
    "    tmp=make_BMI_list(cst.design_SNR,cst.M)\n",
    "    for a in range(len(tmp)):\n",
    "        tmp[a]=cst.const.calc_J_inv(tmp[a])\n",
    "    #print(tmp)\n",
    "    gamma=np.tile(tmp,cst.N//int(np.log2(cst.M)))\n",
    "\n",
    "    xi=np.log(gamma)\n",
    "    xi=xi[BICM_deint]\n",
    "\n",
    "    #print(np.sort(np.argsort(xi)[:len(xi)//2]))\n",
    "    #print(info_bits)\n",
    "\n",
    "    if np.all(np.sort(np.argsort(xi)[:len(xi)//2])==info_bits)==False:\n",
    "        print(\"interleaver error!!\")"
   ]
  },
  {
   "cell_type": "code",
   "execution_count": 36,
   "metadata": {},
   "outputs": [
    {
     "name": "stdout",
     "output_type": "stream",
     "text": [
      "count: 1\n",
      "count: 2\n",
      "count: 3\n",
      "count: 4\n",
      "count: 5\n",
      "count: 6\n",
      "[   0  126    1 ... 1022  896 1023]\n"
     ]
    }
   ],
   "source": [
    "count=0\n",
    "BICM_int=np.arange(cst.N)\n",
    "#BICM_int_new=np.arange(cst.N)\n",
    "while True:\n",
    "    count+=1\n",
    "    print(\"count:\",count)\n",
    "    BICM_int_new=construction(cst,BICM_int)\n",
    "    if np.all(BICM_int_new==BICM_int)==True:\n",
    "        break\n",
    "    else:\n",
    "        BICM_int=BICM_int_new\n",
    "\n",
    "print(BICM_int)    \n",
    "    "
   ]
  },
  {
   "cell_type": "code",
   "execution_count": null,
   "metadata": {},
   "outputs": [],
   "source": []
  }
 ],
 "metadata": {
  "kernelspec": {
   "display_name": "Python 3.8.2 64-bit",
   "language": "python",
   "name": "python3"
  },
  "language_info": {
   "codemirror_mode": {
    "name": "ipython",
    "version": 3
   },
   "file_extension": ".py",
   "mimetype": "text/x-python",
   "name": "python",
   "nbconvert_exporter": "python",
   "pygments_lexer": "ipython3",
   "version": "3.8.10"
  },
  "orig_nbformat": 4,
  "vscode": {
   "interpreter": {
    "hash": "31f2aee4e71d21fbe5cf8b01ff0e069b9275f58929596ceb00d14d90e3e16cd6"
   }
  }
 },
 "nbformat": 4,
 "nbformat_minor": 2
}
