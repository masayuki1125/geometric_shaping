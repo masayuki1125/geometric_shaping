{
 "cells": [
  {
   "cell_type": "code",
   "execution_count": 2,
   "metadata": {},
   "outputs": [],
   "source": [
    "from RCA import RCA\n",
    "from iGA import Improved_GA\n",
    "import numpy as np\n",
    "from numpy import sqrt\n",
    "from scipy import special"
   ]
  },
  {
   "cell_type": "code",
   "execution_count": 3,
   "metadata": {},
   "outputs": [],
   "source": [
    "def Q(EsNo):\n",
    "    BER=1/2*(1-special.erf(sqrt(EsNo)))\n",
    "    return BER"
   ]
  },
  {
   "cell_type": "code",
   "execution_count": null,
   "metadata": {},
   "outputs": [],
   "source": [
    "#RCA\n",
    "N=1024\n",
    "K=512\n",
    "M_list=[4,16,256]\n",
    "for M in M_list:\n",
    "    EsNodB=np.arange(0,30,0.5)\n",
    "    BLER=np.zeros(len(EsNodB))\n",
    "    for i,SNR in enumerate(EsNodB):\n",
    "        #gamma == EsNo(True value)\n",
    "        const=RCA()\n",
    "        gamma=np.sort(np.exp(const.main_const(N,K,SNR,M,soft_output=True)))[::-1]\n",
    "        gamma=gamma[:K]\n",
    "        #print(gamma.shape)\n",
    "        BLER[i]=1-np.prod((1-Q(gamma)))\n",
    "        if BLER[i]==0:\n",
    "            BLER=BLER[:i]\n",
    "            break\n",
    "\n",
    "    filename=\"EST_RCA_\"+str(N)+\"_\"+str(K)+\"_\"+str(M)\n",
    "    with open(filename,'w') as f:\n",
    "        print(\"#EsNodB,BLER,BER\",file=f)\n",
    "        \n",
    "        for i in range(len(BLER)):\n",
    "            #print(EsNodB[i])\n",
    "            print(str(EsNodB[i]),str(BLER[i]),file=f)"
   ]
  },
  {
   "cell_type": "code",
   "execution_count": 30,
   "metadata": {},
   "outputs": [
    {
     "name": "stdout",
     "output_type": "stream",
     "text": [
      "0.05781393485731501\n"
     ]
    },
    {
     "name": "stderr",
     "output_type": "stream",
     "text": [
      "/tmp/ipykernel_2377250/2626261011.py:8: RuntimeWarning: overflow encountered in exp\n",
      "  gamma=np.exp(gamma[:K])\n"
     ]
    }
   ],
   "source": [
    "N=1024\n",
    "K=512\n",
    "M=16\n",
    "SNR=12\n",
    "const=Improved_GA()\n",
    "gamma=(const.main_const(N,K,SNR,M,soft_output=True))[::-1]\n",
    "#print(gamma)\n",
    "gamma=np.exp(gamma[:K])\n",
    "#print(gamma)\n",
    "print(1-np.prod((1-Q(gamma/4))))"
   ]
  },
  {
   "cell_type": "code",
   "execution_count": null,
   "metadata": {},
   "outputs": [],
   "source": [
    "#iGA\n",
    "N=1024\n",
    "K=512\n",
    "M_list=[4,16,256]\n",
    "for M in M_list:\n",
    "    EsNodB=np.arange(0,30,0.5)\n",
    "    BLER=np.zeros(len(EsNodB))\n",
    "    for i,SNR in enumerate(EsNodB):\n",
    "        #gamma == EsNo(True value)\n",
    "        const=Improved_GA()\n",
    "        gamma=np.sort((const.main_const(N,K,SNR,M,soft_output=True)))[::-1]\n",
    "        gamma=gamma[:K]\n",
    "        print(gamma)\n",
    "        BLER[i]=1-np.prod((1-Q(gamma)))\n",
    "        if BLER[i]==0:\n",
    "            BLER=BLER[:i]\n",
    "            break\n",
    "\n",
    "    filename=\"EST_iGA_\"+str(N)+\"_\"+str(K)+\"_\"+str(M)\n",
    "    with open(filename,'w') as f:\n",
    "        print(\"#EsNodB,BLER,BER\",file=f)\n",
    "        \n",
    "        for i in range(len(BLER)):\n",
    "            #print(EsNodB[i])\n",
    "            print(str(EsNodB[i]),str(BLER[i]),file=f)\n"
   ]
  },
  {
   "cell_type": "code",
   "execution_count": null,
   "metadata": {},
   "outputs": [],
   "source": []
  }
 ],
 "metadata": {
  "interpreter": {
   "hash": "31f2aee4e71d21fbe5cf8b01ff0e069b9275f58929596ceb00d14d90e3e16cd6"
  },
  "kernelspec": {
   "display_name": "Python 3.8.10 64-bit",
   "language": "python",
   "name": "python3"
  },
  "language_info": {
   "codemirror_mode": {
    "name": "ipython",
    "version": 3
   },
   "file_extension": ".py",
   "mimetype": "text/x-python",
   "name": "python",
   "nbconvert_exporter": "python",
   "pygments_lexer": "ipython3",
   "version": "3.8.10"
  },
  "orig_nbformat": 4
 },
 "nbformat": 4,
 "nbformat_minor": 2
}
