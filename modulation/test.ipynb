{
 "cells": [
  {
   "cell_type": "code",
   "execution_count": 24,
   "metadata": {},
   "outputs": [],
   "source": [
    "import numpy as np\n",
    "from modulation import QAMModem"
   ]
  },
  {
   "cell_type": "code",
   "execution_count": 58,
   "metadata": {},
   "outputs": [
    {
     "name": "stdout",
     "output_type": "stream",
     "text": [
      "[[ 0  1  2  3  4  5  6  7  8  9]\n",
      " [10 11 12 13 14 15 16 17 18 19]]\n",
      "[[10 10]\n",
      " [12 11]\n",
      " [14 12]\n",
      " [16 13]\n",
      " [18 14]\n",
      " [20 15]\n",
      " [22 16]\n",
      " [24 17]\n",
      " [26 18]\n",
      " [28 19]]\n"
     ]
    },
    {
     "data": {
      "text/plain": [
       "array([10, 12, 14, 16, 18, 20, 22, 24, 26, 28, 10, 11, 12, 13, 14, 15, 16,\n",
       "       17, 18, 19])"
      ]
     },
     "execution_count": 58,
     "metadata": {},
     "output_type": "execute_result"
    }
   ],
   "source": [
    "a=np.arange(20)\n",
    "\n",
    "a=np.reshape(a,[2,10])\n",
    "\n",
    "b=np.array([[1,0],[1,1]])\n",
    "print(a)\n",
    "c=a.T@b\n",
    "print(c)\n",
    "np.ravel(c.T,order='C')"
   ]
  },
  {
   "cell_type": "code",
   "execution_count": 55,
   "metadata": {},
   "outputs": [
    {
     "name": "stdout",
     "output_type": "stream",
     "text": [
      "(10, 2)\n",
      "[[ 0  2]\n",
      " [ 4  6]\n",
      " [ 8 10]\n",
      " [12 14]\n",
      " [16 18]\n",
      " [20 22]\n",
      " [24 26]\n",
      " [28 30]\n",
      " [32 34]\n",
      " [36 38]]\n"
     ]
    },
    {
     "data": {
      "text/plain": [
       "array([[ 0,  0],\n",
       "       [ 0,  6],\n",
       "       [ 0,  0],\n",
       "       [ 0, 14],\n",
       "       [ 0,  0],\n",
       "       [ 0, 22],\n",
       "       [ 0,  0],\n",
       "       [ 0, 30],\n",
       "       [ 0,  0],\n",
       "       [ 0, 38]])"
      ]
     },
     "execution_count": 55,
     "metadata": {},
     "output_type": "execute_result"
    }
   ],
   "source": [
    "print(c.shape)\n",
    "\n",
    "d=np.arange(40)\n",
    "\n",
    "d=np.reshape(d,[10,2,2])\n",
    "\n",
    "print(d[:,:,0])\n",
    "d=d[:,:,0]\n",
    "d*c\n"
   ]
  },
  {
   "cell_type": "code",
   "execution_count": 2,
   "metadata": {},
   "outputs": [],
   "source": [
    "modem=QAMModem(16)"
   ]
  },
  {
   "cell_type": "code",
   "execution_count": 3,
   "metadata": {},
   "outputs": [
    {
     "data": {
      "text/plain": [
       "{'0000': (-0.9486832980505138+0.9486832980505138j),\n",
       " '0001': (-0.9486832980505138+0.31622776601683794j),\n",
       " '0011': (-0.9486832980505138-0.31622776601683794j),\n",
       " '0010': (-0.9486832980505138-0.9486832980505138j),\n",
       " '0110': (-0.31622776601683794-0.9486832980505138j),\n",
       " '0111': (-0.31622776601683794-0.31622776601683794j),\n",
       " '0101': (-0.31622776601683794+0.31622776601683794j),\n",
       " '0100': (-0.31622776601683794+0.9486832980505138j),\n",
       " '1100': (0.31622776601683794+0.9486832980505138j),\n",
       " '1101': (0.31622776601683794+0.31622776601683794j),\n",
       " '1111': (0.31622776601683794-0.31622776601683794j),\n",
       " '1110': (0.31622776601683794-0.9486832980505138j),\n",
       " '1010': (0.9486832980505138-0.9486832980505138j),\n",
       " '1011': (0.9486832980505138-0.31622776601683794j),\n",
       " '1001': (0.9486832980505138+0.31622776601683794j),\n",
       " '1000': (0.9486832980505138+0.9486832980505138j)}"
      ]
     },
     "execution_count": 3,
     "metadata": {},
     "output_type": "execute_result"
    }
   ],
   "source": [
    "modem.code_book"
   ]
  },
  {
   "cell_type": "code",
   "execution_count": 20,
   "metadata": {},
   "outputs": [
    {
     "name": "stdout",
     "output_type": "stream",
     "text": [
      "<class 'list'>\n"
     ]
    }
   ],
   "source": [
    "\"\"\" Creates the coordinates\n",
    "where either zeros or ones can be placed in the signal constellation..\n",
    "Returns\n",
    "-------\n",
    "zeros : list of lists of complex values\n",
    "    The coordinates where zeros can be placed in the signal constellation.\n",
    "ones : list of lists of complex values\n",
    "    The coordinates where ones can be placed in the signal constellation.\n",
    "\"\"\"\n",
    "code_book = self.code_book\n",
    "\n",
    "zeros = [[] for i in range(self.N)]\n",
    "ones = [[] for i in range(self.N)]\n",
    "\n",
    "bin_seq = self.de2bin(self.m)\n",
    "\n",
    "for bin_idx, bin_symb in enumerate(bin_seq):\n",
    "    if self.bin_input == True:\n",
    "        key = bin_symb\n",
    "    else:\n",
    "        key = bin_idx\n",
    "    for possition, digit in enumerate(bin_symb):\n",
    "        if digit == '0':\n",
    "            zeros[possition].append(code_book[key])\n",
    "        else:\n",
    "            ones[possition].append(code_book[key])"
   ]
  },
  {
   "cell_type": "code",
   "execution_count": 22,
   "metadata": {},
   "outputs": [],
   "source": [
    "modem.zeros=zeros\n",
    "modem.ones=ones"
   ]
  }
 ],
 "metadata": {
  "kernelspec": {
   "display_name": "Python 3.8.10 64-bit",
   "language": "python",
   "name": "python3"
  },
  "language_info": {
   "codemirror_mode": {
    "name": "ipython",
    "version": 3
   },
   "file_extension": ".py",
   "mimetype": "text/x-python",
   "name": "python",
   "nbconvert_exporter": "python",
   "pygments_lexer": "ipython3",
   "version": "3.8.10"
  },
  "orig_nbformat": 4,
  "vscode": {
   "interpreter": {
    "hash": "31f2aee4e71d21fbe5cf8b01ff0e069b9275f58929596ceb00d14d90e3e16cd6"
   }
  }
 },
 "nbformat": 4,
 "nbformat_minor": 2
}
