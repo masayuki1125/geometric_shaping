{
 "cells": [
  {
   "cell_type": "code",
   "execution_count": 1,
   "metadata": {},
   "outputs": [],
   "source": [
    "import ray\n",
    "import pickle\n",
    "import sys\n",
    "import numpy as np\n",
    "import math\n",
    "import os\n",
    "#my module\n",
    "from LDPC_code import LDPC_construction\n",
    "from LDPC_code import LDPC_encode\n",
    "from LDPC_code import LDPC_decode\n",
    "from polar_code import polar_construction\n",
    "from polar_code import polar_encode\n",
    "from polar_code import polar_decode\n",
    "from polar_code import RCA\n",
    "from polar_code import iGA\n",
    "from polar_code import monte_carlo_construction\n",
    "from turbo_code import turbo_construction\n",
    "from turbo_code import turbo_encode\n",
    "from turbo_code import turbo_decode\n",
    "from modulation import modulation\n",
    "from modulation.BICM import make_BICM\n",
    "from channel import AWGN"
   ]
  },
  {
   "cell_type": "code",
   "execution_count": 40,
   "metadata": {},
   "outputs": [],
   "source": [
    "class Mysystem_LDPC():\n",
    "    def __init__(self,M,K):\n",
    "        self.M=M\n",
    "        self.K=K\n",
    "        #self.N=self.K*int(np.log2(self.M))\n",
    "        self.N=self.K*2\n",
    "        self.BICM=True \n",
    "        self.BICM_ID=True\n",
    "        \n",
    "        if self.BICM_ID==True:\n",
    "            self.BICM=True\n",
    "            self.BICM_ID_itr=10\n",
    "                \n",
    "        #coding\n",
    "        self.cd=LDPC_construction.coding(self.N,self.K)\n",
    "        self.ec=LDPC_encode.encoding(self.cd)\n",
    "        self.dc=LDPC_decode.decoding(self.cd)\n",
    "        #modulation\n",
    "        self.modem=modulation.QAMModem(self.M)\n",
    "        \n",
    "\n",
    "        #channel\n",
    "        self.ch=AWGN._AWGN()\n",
    "        \n",
    "        #filename\n",
    "        self.filename=\"LDPC_code_{}_{}_{}\".format(self.N,self.K,self.M)\n",
    "        if self.BICM==True:\n",
    "            self.BICM_int,self.BICM_deint=make_BICM(self.N,self.M)\n",
    "            self.filename=self.filename+\"_BICM\"\n",
    "        \n",
    "        #output filename to confirm which program I run\n",
    "        print(self.filename)\n",
    "    \n",
    "    def main_func(self,EsNodB):\n",
    "        EsNo = 10 ** (EsNodB / 10)\n",
    "        No=1/EsNo\n",
    "\n",
    "        info,cwd=self.ec.LDPC_encode()\n",
    "        info=cwd #BICMのとき、cwdがインターリーブされてしまい、比較できなくなる為、infoをcwdに変更する\n",
    "        if self.BICM==True:\n",
    "            cwd=cwd[self.BICM_int]\n",
    "        TX_conste=self.modem.modulate(cwd)\n",
    "        \n",
    "        #channel\n",
    "        RX_conste=self.ch.add_AWGN(TX_conste,No)\n",
    "        \n",
    "        #at the reciever\n",
    "        if self.BICM_ID==False:\n",
    "            Lc=self.modem.demodulate(RX_conste,No)\n",
    "            if self.BICM==True:\n",
    "                Lc=Lc[self.BICM_deint]\n",
    "            EST_cwd,_=self.dc.LDPC_decode(Lc)\n",
    "            return info,EST_cwd\n",
    "        \n",
    "        \n",
    "        elif self.BICM_ID==True:\n",
    "            \n",
    "            #demodulate      \n",
    "            Lc,[zeros,ones]=self.modem.demodulate(RX_conste,No,self.BICM_ID)\n",
    "            \n",
    "            ###check\n",
    "            num=self.modem.calc_exp(zeros,No)\n",
    "            denum=self.modem.calc_exp(ones,No)\n",
    "            Lc_check=(np.transpose(num[0]) - np.transpose(denum[0])).ravel(order='F')\n",
    "            #print(Lc3)\n",
    "            if np.any(Lc!=Lc_check):\n",
    "                print(\"Lc is different\")\n",
    "            ###check end\n",
    "            \n",
    "            return Lc,[zeros,ones]"
   ]
  },
  {
   "cell_type": "code",
   "execution_count": 3,
   "metadata": {},
   "outputs": [],
   "source": [
    "def key_preparation(self):\n",
    "    \"\"\" Creates the coordinates\n",
    "    where either zeros or ones can be placed in the signal constellation..\n",
    "    Returns\n",
    "    -------\n",
    "    zeros : list of lists of complex values\n",
    "        The coordinates where zeros can be placed in the signal constellation.\n",
    "    ones : list of lists of complex values\n",
    "        The coordinates where ones can be placed in the signal constellation.\n",
    "    \"\"\"\n",
    "\n",
    "    zeros = [[] for i in range(self.N)]\n",
    "    ones = [[] for i in range(self.N)]\n",
    "\n",
    "    bin_seq = self.de2bin(self.m)\n",
    "\n",
    "    for bin_idx, bin_symb in enumerate(bin_seq):\n",
    "        if self.bin_input == True:\n",
    "            key = bin_symb\n",
    "        else:\n",
    "            key = bin_idx\n",
    "        for possition, digit in enumerate(bin_symb):\n",
    "            if digit == '0':\n",
    "                zeros[possition].append(key)\n",
    "            else:\n",
    "                ones[possition].append(key)\n",
    "    \n",
    "    #from str list to int array \n",
    "    for i in range(len(zeros)):\n",
    "        zeros[i]=np.array([int(s, 2) for s in zeros[i]])\n",
    "        ones[i]=np.array([int(s, 2) for s in ones[i]])\n",
    "                \n",
    "    return zeros, ones"
   ]
  },
  {
   "cell_type": "code",
   "execution_count": 4,
   "metadata": {},
   "outputs": [
    {
     "name": "stdout",
     "output_type": "stream",
     "text": [
      "(2, 4)\n",
      "LDPC_code_1024_512_4_BICM\n"
     ]
    },
    {
     "data": {
      "text/plain": [
       "{'00': (-0.7071067811865475+0.7071067811865475j),\n",
       " '01': (-0.7071067811865475-0.7071067811865475j),\n",
       " '11': (0.7071067811865475-0.7071067811865475j),\n",
       " '10': (0.7071067811865475+0.7071067811865475j)}"
      ]
     },
     "execution_count": 4,
     "metadata": {},
     "output_type": "execute_result"
    }
   ],
   "source": [
    "K=512\n",
    "M=4\n",
    "EsNodB=0\n",
    "EsNo = 10 ** (EsNodB / 10)\n",
    "No=1/EsNo\n",
    "mysys=Mysystem_LDPC(M,K)\n",
    "modem=mysys.modem\n",
    "modem.code_book"
   ]
  },
  {
   "cell_type": "code",
   "execution_count": 5,
   "metadata": {},
   "outputs": [
    {
     "data": {
      "text/plain": [
       "array([   0,    1,    2, ..., 1021, 1022, 1023])"
      ]
     },
     "execution_count": 5,
     "metadata": {},
     "output_type": "execute_result"
    }
   ],
   "source": [
    "np.arange(1024)"
   ]
  },
  {
   "cell_type": "code",
   "execution_count": 12,
   "metadata": {},
   "outputs": [],
   "source": [
    "def create_mat():\n",
    "    '''\n",
    "    return 2D numpy array\n",
    "    in which the first column is 0(bin)\n",
    "    second column is1(bin),,,, \n",
    "    '''\n",
    "    #print(str(0)+str(modem.N)+'b')\n",
    "    #print(format(4,str(0)+str(modem.N)+'b'))\n",
    "    mat=np.zeros((modem.M,modem.N),dtype=int)\n",
    "    for i in range(modem.M):\n",
    "        digit_num=str(0)+str(modem.N)\n",
    "        tmp=format(i,digit_num+'b')\n",
    "        for j in range(modem.N):\n",
    "            mat[i,j]=int(tmp[j])\n",
    "    return mat\n",
    "\n",
    "mat=create_mat()\n",
    "    "
   ]
  },
  {
   "cell_type": "code",
   "execution_count": 8,
   "metadata": {},
   "outputs": [
    {
     "name": "stdout",
     "output_type": "stream",
     "text": [
      "{'00': (-0.7071067811865475+0.7071067811865475j), '01': (-0.7071067811865475-0.7071067811865475j), '11': (0.7071067811865475-0.7071067811865475j), '10': (0.7071067811865475+0.7071067811865475j)}\n",
      "[array([0, 1]), array([0, 2])]\n",
      "[array([2, 3]), array([1, 3])]\n"
     ]
    }
   ],
   "source": [
    "zeros_key,ones_key=key_preparation(mysys.modem)\n",
    "print(modem.code_book)\n",
    "print(zeros_key)\n",
    "print(ones_key)"
   ]
  },
  {
   "cell_type": "code",
   "execution_count": 9,
   "metadata": {},
   "outputs": [
    {
     "data": {
      "text/plain": [
       "'\\ndef llr2prob(llr):\\n    log=True\\n    p0=math.exp(llr)/(1+math.exp(llr))\\n    p1=1/(1+math.exp(llr))\\n    if log==True:\\n        p0=math.log(p0)\\n        p1=math.log(p1)\\n    return np.array([p0,p1])\\n'"
      ]
     },
     "execution_count": 9,
     "metadata": {},
     "output_type": "execute_result"
    }
   ],
   "source": [
    "'''\n",
    "def llr2prob(llr):\n",
    "    log=True\n",
    "    p0=math.exp(llr)/(1+math.exp(llr))\n",
    "    p1=1/(1+math.exp(llr))\n",
    "    if log==True:\n",
    "        p0=math.log(p0)\n",
    "        p1=math.log(p1)\n",
    "    return np.array([p0,p1])\n",
    "'''"
   ]
  },
  {
   "cell_type": "code",
   "execution_count": 10,
   "metadata": {},
   "outputs": [
    {
     "name": "stdout",
     "output_type": "stream",
     "text": [
      "[[0 1 2 3 4]\n",
      " [5 6 7 8 9]]\n"
     ]
    },
    {
     "data": {
      "text/plain": [
       "array([[[5, 6, 7, 8, 9],\n",
       "        [5, 6, 7, 8, 9]],\n",
       "\n",
       "       [[5, 6, 7, 8, 9],\n",
       "        [5, 6, 7, 8, 9]]])"
      ]
     },
     "execution_count": 10,
     "metadata": {},
     "output_type": "execute_result"
    }
   ],
   "source": [
    "#test\n",
    "tmp=np.arange(10).reshape(2,5)\n",
    "print(tmp)\n",
    "index=np.array([[1,1],[1,1]])\n",
    "tmp[index]"
   ]
  },
  {
   "cell_type": "code",
   "execution_count": 38,
   "metadata": {},
   "outputs": [
    {
     "ename": "ValueError",
     "evalue": "operands could not be broadcast together with shapes (512,) (2,) ",
     "output_type": "error",
     "traceback": [
      "\u001b[0;31m---------------------------------------------------------------------------\u001b[0m",
      "\u001b[0;31mValueError\u001b[0m                                Traceback (most recent call last)",
      "\u001b[1;32m/home/kaneko/Dropbox/programming/geometric_shaping/BICM_ID.ipynb Cell 10'\u001b[0m in \u001b[0;36m<cell line: 5>\u001b[0;34m()\u001b[0m\n\u001b[1;32m      <a href='vscode-notebook-cell://ssh-remote%2Baudioslave.ochiailab.com/home/kaneko/Dropbox/programming/geometric_shaping/BICM_ID.ipynb#ch0000017vscode-remote?line=1'>2</a>\u001b[0m zeros_key,ones_key\u001b[39m=\u001b[39mkey_preparation(modem) \u001b[39m#key number of ones and zeros\u001b[39;00m\n\u001b[1;32m      <a href='vscode-notebook-cell://ssh-remote%2Baudioslave.ochiailab.com/home/kaneko/Dropbox/programming/geometric_shaping/BICM_ID.ipynb#ch0000017vscode-remote?line=2'>3</a>\u001b[0m mat\u001b[39m=\u001b[39mcreate_mat() \u001b[39m#binary matrics\u001b[39;00m\n\u001b[0;32m----> <a href='vscode-notebook-cell://ssh-remote%2Baudioslave.ochiailab.com/home/kaneko/Dropbox/programming/geometric_shaping/BICM_ID.ipynb#ch0000017vscode-remote?line=4'>5</a>\u001b[0m Lc,[zeros,ones]\u001b[39m=\u001b[39mmysys\u001b[39m.\u001b[39;49mmain_func(EsNodB) \u001b[39m#Lcはデインターリーブされていない\u001b[39;00m\n\u001b[1;32m      <a href='vscode-notebook-cell://ssh-remote%2Baudioslave.ochiailab.com/home/kaneko/Dropbox/programming/geometric_shaping/BICM_ID.ipynb#ch0000017vscode-remote?line=5'>6</a>\u001b[0m \u001b[39m#decode \u001b[39;00m\n\u001b[1;32m      <a href='vscode-notebook-cell://ssh-remote%2Baudioslave.ochiailab.com/home/kaneko/Dropbox/programming/geometric_shaping/BICM_ID.ipynb#ch0000017vscode-remote?line=6'>7</a>\u001b[0m EST_cwd,EX_info\u001b[39m=\u001b[39mmysys\u001b[39m.\u001b[39mdc\u001b[39m.\u001b[39mLDPC_decode(Lc[mysys\u001b[39m.\u001b[39mBICM_deint]) \u001b[39m#MAPデコーダで出てきた外部値を取得\u001b[39;00m\n",
      "\u001b[1;32m/home/kaneko/Dropbox/programming/geometric_shaping/BICM_ID.ipynb Cell 2'\u001b[0m in \u001b[0;36mMysystem_LDPC.main_func\u001b[0;34m(self, EsNodB)\u001b[0m\n\u001b[1;32m     <a href='vscode-notebook-cell://ssh-remote%2Baudioslave.ochiailab.com/home/kaneko/Dropbox/programming/geometric_shaping/BICM_ID.ipynb#ch0000001vscode-remote?line=52'>53</a>\u001b[0m     \u001b[39mreturn\u001b[39;00m info,EST_cwd\n\u001b[1;32m     <a href='vscode-notebook-cell://ssh-remote%2Baudioslave.ochiailab.com/home/kaneko/Dropbox/programming/geometric_shaping/BICM_ID.ipynb#ch0000001vscode-remote?line=55'>56</a>\u001b[0m \u001b[39melif\u001b[39;00m \u001b[39mself\u001b[39m\u001b[39m.\u001b[39mBICM_ID\u001b[39m==\u001b[39m\u001b[39mTrue\u001b[39;00m:\n\u001b[1;32m     <a href='vscode-notebook-cell://ssh-remote%2Baudioslave.ochiailab.com/home/kaneko/Dropbox/programming/geometric_shaping/BICM_ID.ipynb#ch0000001vscode-remote?line=56'>57</a>\u001b[0m     \n\u001b[1;32m     <a href='vscode-notebook-cell://ssh-remote%2Baudioslave.ochiailab.com/home/kaneko/Dropbox/programming/geometric_shaping/BICM_ID.ipynb#ch0000001vscode-remote?line=57'>58</a>\u001b[0m     \u001b[39m#demodulate      \u001b[39;00m\n\u001b[0;32m---> <a href='vscode-notebook-cell://ssh-remote%2Baudioslave.ochiailab.com/home/kaneko/Dropbox/programming/geometric_shaping/BICM_ID.ipynb#ch0000001vscode-remote?line=58'>59</a>\u001b[0m     Lc,[zeros,ones]\u001b[39m=\u001b[39m\u001b[39mself\u001b[39;49m\u001b[39m.\u001b[39;49mmodem\u001b[39m.\u001b[39;49mdemodulate(RX_conste,No,\u001b[39mself\u001b[39;49m\u001b[39m.\u001b[39;49mBICM_ID)\n\u001b[1;32m     <a href='vscode-notebook-cell://ssh-remote%2Baudioslave.ochiailab.com/home/kaneko/Dropbox/programming/geometric_shaping/BICM_ID.ipynb#ch0000001vscode-remote?line=60'>61</a>\u001b[0m     \u001b[39m###check\u001b[39;00m\n\u001b[1;32m     <a href='vscode-notebook-cell://ssh-remote%2Baudioslave.ochiailab.com/home/kaneko/Dropbox/programming/geometric_shaping/BICM_ID.ipynb#ch0000001vscode-remote?line=61'>62</a>\u001b[0m     num\u001b[39m=\u001b[39m\u001b[39mself\u001b[39m\u001b[39m.\u001b[39mmodem\u001b[39m.\u001b[39mcalc_exp(zeros,No)\n",
      "File \u001b[0;32m~/Dropbox/programming/geometric_shaping/modulation/modulation.py:266\u001b[0m, in \u001b[0;36mModem.demodulate\u001b[0;34m(self, x, No, BICM_ID)\u001b[0m\n\u001b[1;32m    <a href='file:///home/kaneko/Dropbox/programming/geometric_shaping/modulation/modulation.py?line=263'>264</a>\u001b[0m     \u001b[39mif\u001b[39;00m \u001b[39mself\u001b[39m\u001b[39m.\u001b[39msoft_decision\u001b[39m==\u001b[39m\u001b[39mFalse\u001b[39;00m:\n\u001b[1;32m    <a href='file:///home/kaneko/Dropbox/programming/geometric_shaping/modulation/modulation.py?line=264'>265</a>\u001b[0m         \u001b[39mraise\u001b[39;00m \u001b[39mValueError\u001b[39;00m(\u001b[39m\"\u001b[39m\u001b[39mthe soft decision must be True if BICM_ID is True\u001b[39m\u001b[39m\"\u001b[39m)\n\u001b[0;32m--> <a href='file:///home/kaneko/Dropbox/programming/geometric_shaping/modulation/modulation.py?line=265'>266</a>\u001b[0m     llr,euclid_dist \u001b[39m=\u001b[39m \u001b[39mself\u001b[39;49m\u001b[39m.\u001b[39;49m__ApproxLLR(x, No ,BICM_ID)\n\u001b[1;32m    <a href='file:///home/kaneko/Dropbox/programming/geometric_shaping/modulation/modulation.py?line=266'>267</a>\u001b[0m     \u001b[39mreturn\u001b[39;00m llr,euclid_dist\n\u001b[1;32m    <a href='file:///home/kaneko/Dropbox/programming/geometric_shaping/modulation/modulation.py?line=268'>269</a>\u001b[0m \u001b[39m#if BICM_ID==False\u001b[39;00m\n",
      "File \u001b[0;32m~/Dropbox/programming/geometric_shaping/modulation/modulation.py:162\u001b[0m, in \u001b[0;36mModem.__ApproxLLR\u001b[0;34m(self, x, No, BICM_ID)\u001b[0m\n\u001b[1;32m    <a href='file:///home/kaneko/Dropbox/programming/geometric_shaping/modulation/modulation.py?line=158'>159</a>\u001b[0m LLR \u001b[39m=\u001b[39m []\n\u001b[1;32m    <a href='file:///home/kaneko/Dropbox/programming/geometric_shaping/modulation/modulation.py?line=159'>160</a>\u001b[0m \u001b[39mfor\u001b[39;00m i,(zero_i, one_i) \u001b[39min\u001b[39;00m \u001b[39menumerate\u001b[39m(\u001b[39mzip\u001b[39m(zeros, ones)): \u001b[39m#iビット目のビットが0のときの信号点と1のときの信号点のリスト\u001b[39;00m\n\u001b[0;32m--> <a href='file:///home/kaneko/Dropbox/programming/geometric_shaping/modulation/modulation.py?line=161'>162</a>\u001b[0m     num \u001b[39m=\u001b[39m [((np\u001b[39m.\u001b[39mreal(x) \u001b[39m-\u001b[39m np\u001b[39m.\u001b[39mreal(z)) \u001b[39m*\u001b[39m\u001b[39m*\u001b[39m \u001b[39m2\u001b[39m)\n\u001b[1;32m    <a href='file:///home/kaneko/Dropbox/programming/geometric_shaping/modulation/modulation.py?line=162'>163</a>\u001b[0m            \u001b[39m+\u001b[39m ((np\u001b[39m.\u001b[39mimag(x) \u001b[39m-\u001b[39m np\u001b[39m.\u001b[39mimag(z)) \u001b[39m*\u001b[39m\u001b[39m*\u001b[39m \u001b[39m2\u001b[39m)\n\u001b[1;32m    <a href='file:///home/kaneko/Dropbox/programming/geometric_shaping/modulation/modulation.py?line=163'>164</a>\u001b[0m            \u001b[39mfor\u001b[39;00m z \u001b[39min\u001b[39;00m zero_i] \n\u001b[1;32m    <a href='file:///home/kaneko/Dropbox/programming/geometric_shaping/modulation/modulation.py?line=164'>165</a>\u001b[0m     denum \u001b[39m=\u001b[39m [((np\u001b[39m.\u001b[39mreal(x) \u001b[39m-\u001b[39m np\u001b[39m.\u001b[39mreal(o)) \u001b[39m*\u001b[39m\u001b[39m*\u001b[39m \u001b[39m2\u001b[39m)\n\u001b[1;32m    <a href='file:///home/kaneko/Dropbox/programming/geometric_shaping/modulation/modulation.py?line=165'>166</a>\u001b[0m              \u001b[39m+\u001b[39m ((np\u001b[39m.\u001b[39mimag(x) \u001b[39m-\u001b[39m np\u001b[39m.\u001b[39mimag(o)) \u001b[39m*\u001b[39m\u001b[39m*\u001b[39m \u001b[39m2\u001b[39m)\n\u001b[1;32m    <a href='file:///home/kaneko/Dropbox/programming/geometric_shaping/modulation/modulation.py?line=166'>167</a>\u001b[0m              \u001b[39mfor\u001b[39;00m o \u001b[39min\u001b[39;00m one_i]\n\u001b[1;32m    <a href='file:///home/kaneko/Dropbox/programming/geometric_shaping/modulation/modulation.py?line=168'>169</a>\u001b[0m     \u001b[39m#for BICM_ID\u001b[39;00m\n\u001b[1;32m    <a href='file:///home/kaneko/Dropbox/programming/geometric_shaping/modulation/modulation.py?line=169'>170</a>\u001b[0m     \u001b[39m#print(\"a\",len(num))\u001b[39;00m\n\u001b[1;32m    <a href='file:///home/kaneko/Dropbox/programming/geometric_shaping/modulation/modulation.py?line=170'>171</a>\u001b[0m     \u001b[39m#print(num_mat[i,:].shape)\u001b[39;00m\n",
      "File \u001b[0;32m~/Dropbox/programming/geometric_shaping/modulation/modulation.py:162\u001b[0m, in \u001b[0;36m<listcomp>\u001b[0;34m(.0)\u001b[0m\n\u001b[1;32m    <a href='file:///home/kaneko/Dropbox/programming/geometric_shaping/modulation/modulation.py?line=158'>159</a>\u001b[0m LLR \u001b[39m=\u001b[39m []\n\u001b[1;32m    <a href='file:///home/kaneko/Dropbox/programming/geometric_shaping/modulation/modulation.py?line=159'>160</a>\u001b[0m \u001b[39mfor\u001b[39;00m i,(zero_i, one_i) \u001b[39min\u001b[39;00m \u001b[39menumerate\u001b[39m(\u001b[39mzip\u001b[39m(zeros, ones)): \u001b[39m#iビット目のビットが0のときの信号点と1のときの信号点のリスト\u001b[39;00m\n\u001b[0;32m--> <a href='file:///home/kaneko/Dropbox/programming/geometric_shaping/modulation/modulation.py?line=161'>162</a>\u001b[0m     num \u001b[39m=\u001b[39m [((np\u001b[39m.\u001b[39;49mreal(x) \u001b[39m-\u001b[39;49m np\u001b[39m.\u001b[39;49mreal(z)) \u001b[39m*\u001b[39m\u001b[39m*\u001b[39m \u001b[39m2\u001b[39m)\n\u001b[1;32m    <a href='file:///home/kaneko/Dropbox/programming/geometric_shaping/modulation/modulation.py?line=162'>163</a>\u001b[0m            \u001b[39m+\u001b[39m ((np\u001b[39m.\u001b[39mimag(x) \u001b[39m-\u001b[39m np\u001b[39m.\u001b[39mimag(z)) \u001b[39m*\u001b[39m\u001b[39m*\u001b[39m \u001b[39m2\u001b[39m)\n\u001b[1;32m    <a href='file:///home/kaneko/Dropbox/programming/geometric_shaping/modulation/modulation.py?line=163'>164</a>\u001b[0m            \u001b[39mfor\u001b[39;00m z \u001b[39min\u001b[39;00m zero_i] \n\u001b[1;32m    <a href='file:///home/kaneko/Dropbox/programming/geometric_shaping/modulation/modulation.py?line=164'>165</a>\u001b[0m     denum \u001b[39m=\u001b[39m [((np\u001b[39m.\u001b[39mreal(x) \u001b[39m-\u001b[39m np\u001b[39m.\u001b[39mreal(o)) \u001b[39m*\u001b[39m\u001b[39m*\u001b[39m \u001b[39m2\u001b[39m)\n\u001b[1;32m    <a href='file:///home/kaneko/Dropbox/programming/geometric_shaping/modulation/modulation.py?line=165'>166</a>\u001b[0m              \u001b[39m+\u001b[39m ((np\u001b[39m.\u001b[39mimag(x) \u001b[39m-\u001b[39m np\u001b[39m.\u001b[39mimag(o)) \u001b[39m*\u001b[39m\u001b[39m*\u001b[39m \u001b[39m2\u001b[39m)\n\u001b[1;32m    <a href='file:///home/kaneko/Dropbox/programming/geometric_shaping/modulation/modulation.py?line=166'>167</a>\u001b[0m              \u001b[39mfor\u001b[39;00m o \u001b[39min\u001b[39;00m one_i]\n\u001b[1;32m    <a href='file:///home/kaneko/Dropbox/programming/geometric_shaping/modulation/modulation.py?line=168'>169</a>\u001b[0m     \u001b[39m#for BICM_ID\u001b[39;00m\n\u001b[1;32m    <a href='file:///home/kaneko/Dropbox/programming/geometric_shaping/modulation/modulation.py?line=169'>170</a>\u001b[0m     \u001b[39m#print(\"a\",len(num))\u001b[39;00m\n\u001b[1;32m    <a href='file:///home/kaneko/Dropbox/programming/geometric_shaping/modulation/modulation.py?line=170'>171</a>\u001b[0m     \u001b[39m#print(num_mat[i,:].shape)\u001b[39;00m\n",
      "\u001b[0;31mValueError\u001b[0m: operands could not be broadcast together with shapes (512,) (2,) "
     ]
    }
   ],
   "source": [
    "#prepere constants\n",
    "zeros_key,ones_key=key_preparation(modem) #key number of ones and zeros\n",
    "mat=create_mat() #binary matrics\n",
    "\n",
    "Lc,[zeros,ones]=mysys.main_func(EsNodB) #Lcはデインターリーブされていない\n",
    "#decode \n",
    "EST_cwd,EX_info=mysys.dc.LDPC_decode(Lc[mysys.BICM_deint]) #MAPデコーダで出てきた外部値を取得\n",
    "\n",
    "Pre_info=EX_info[mysys.BICM_int]+Lc#順番の入れ替えをして、事前値にする\n",
    "\n",
    "\n",
    "def soft_demapper(Pre_info,Lc,modem,zeros_key,ones_key,zeros,ones):\n",
    "    '''\n",
    "    inputs:\n",
    "\n",
    "    \n",
    "    ----\n",
    "    return:\n",
    "    updated LLR from demapper\n",
    "    '''\n",
    "\n",
    "    symbol_num=int(len(Lc)/modem.N) #シンボルの長さ\n",
    "\n",
    "    #print(Pre_info[:30])\n",
    "    #Pre_info=Pre_info.reshape([modem.N,symbol_num],order='F') #各シンボルで受信したビットごとに並べ替える　(symbol_num*bits_in_symbol)\n",
    "\n",
    "    Pre_info_mat=mat@(Pre_info.reshape([modem.N,symbol_num],order='F'))#+Lc.reshape([modem.N,symbol_num],order='F'))\n",
    "\n",
    "    ex_mat_z=np.zeros(zeros.shape) #the matrix of symbol generate probability of the bit zero\n",
    "    ex_mat_o=np.zeros(zeros.shape) #bit ones\n",
    "\n",
    "    for i in range(symbol_num): #1シンボル毎\n",
    "        for j in range(modem.N): #シンボル内の1ビットごと\n",
    "            ex_mat_z[:,i,j]-=Pre_info_mat[zeros_key[j],i]\n",
    "            ex_mat_o[:,i,j]-=Pre_info_mat[ones_key[j],i]\n",
    "\n",
    "    num=np.exp(-1*np.array(zeros)/No+ex_mat_z)\n",
    "    num=np.sum(num,axis=0,keepdims=True)\n",
    "    num=np.clip(num,10**(-15),10**15)\n",
    "    num=np.log(num)\n",
    "\n",
    "    den=np.exp(-1*np.array(ones)/No+ex_mat_o)\n",
    "    den=np.sum(den,axis=0,keepdims=True)\n",
    "    den=np.clip(den,10**(-15),10**15)\n",
    "    den=np.log(den)\n",
    "\n",
    "    res_Lc=(np.transpose(num[0]) - np.transpose(den[0])).ravel(order='F')  \n",
    "    \n",
    "    return res_Lc-Pre_info\n",
    "\n",
    "\n",
    "K=512\n",
    "M=4\n",
    "EsNodB=0\n",
    "EsNo = 10 ** (EsNodB / 10)\n",
    "No=1/EsNo\n",
    "mysys=Mysystem_LDPC(M,K)\n",
    "\n",
    "print(soft_demapper(Pre_info,Lc,modem,zeros_key,ones_key,zeros,ones))\n",
    "print(Lc)\n"
   ]
  },
  {
   "cell_type": "code",
   "execution_count": 11,
   "metadata": {},
   "outputs": [
    {
     "name": "stdout",
     "output_type": "stream",
     "text": [
      "0.6931471805599453\n"
     ]
    }
   ],
   "source": [
    "import numpy as np\n",
    "a=np.log(2)\n",
    "print(a)"
   ]
  },
  {
   "cell_type": "code",
   "execution_count": 15,
   "metadata": {},
   "outputs": [
    {
     "name": "stdout",
     "output_type": "stream",
     "text": [
      "hello\n",
      "34.538776394910684\n"
     ]
    }
   ],
   "source": [
    "print(\"hello\")\n",
    "print(np.log(10**15))"
   ]
  },
  {
   "cell_type": "code",
   "execution_count": 70,
   "metadata": {},
   "outputs": [
    {
     "name": "stdout",
     "output_type": "stream",
     "text": [
      "(2, 4)\n",
      "27\n",
      " itr 2"
     ]
    }
   ],
   "source": [
    "class BICM_ID:\n",
    "    def __init__(self,modem,zeros,ones):\n",
    "        self.modem=modem\n",
    "        self.zeros=zeros\n",
    "        self.ones=ones\n",
    "        self.zeros_key,self.ones_key=self.key_preparation(self.modem)\n",
    "        self.mat=self.create_mat(self.modem)\n",
    "        print(\"mat shape\")\n",
    "        print(self.mat.shape)\n",
    "    \n",
    "    @staticmethod\n",
    "    def key_preparation(modem):\n",
    "        \"\"\" Creates the coordinates\n",
    "        where either zeros or ones can be placed in the signal constellation..\n",
    "        Returns\n",
    "        -------\n",
    "        zeros : list of lists of complex values\n",
    "            The coordinates where zeros can be placed in the signal constellation.\n",
    "        ones : list of lists of complex values\n",
    "            The coordinates where ones can be placed in the signal constellation.\n",
    "        \"\"\"\n",
    "\n",
    "        zeros = [[] for i in range(modem.N)]\n",
    "        ones = [[] for i in range(modem.N)]\n",
    "\n",
    "        bin_seq = modem.de2bin(modem.m)\n",
    "\n",
    "        for bin_idx, bin_symb in enumerate(bin_seq):\n",
    "            if modem.bin_input == True:\n",
    "                key = bin_symb\n",
    "            else:\n",
    "                key = bin_idx\n",
    "            for possition, digit in enumerate(bin_symb):\n",
    "                if digit == '0':\n",
    "                    zeros[possition].append(key)\n",
    "                else:\n",
    "                    ones[possition].append(key)\n",
    "        \n",
    "        #from str list to int array \n",
    "        for i in range(len(zeros)):\n",
    "            zeros[i]=np.array([int(s, 2) for s in zeros[i]])\n",
    "            ones[i]=np.array([int(s, 2) for s in ones[i]])\n",
    "                    \n",
    "        return zeros, ones\n",
    "    \n",
    "    @staticmethod\n",
    "    def create_mat(modem):\n",
    "        '''\n",
    "        return 2D numpy array\n",
    "        in which the first column is 0(bin)\n",
    "        second column is1(bin),,,, \n",
    "        '''\n",
    "        #print(str(0)+str(modem.N)+'b')\n",
    "        #print(format(4,str(0)+str(modem.N)+'b'))\n",
    "        mat=np.zeros((modem.M,modem.N),dtype=int)\n",
    "        for i in range(modem.M):\n",
    "            digit_num=str(0)+str(modem.N)\n",
    "            tmp=format(i,digit_num+'b')\n",
    "            for j in range(modem.N):\n",
    "                mat[i,j]=int(tmp[j])\n",
    "        return mat\n",
    "\n",
    "    def demapper(self,Pre_info,Lc):\n",
    "        '''\n",
    "        inputs:\n",
    "\n",
    "        \n",
    "        ----\n",
    "        return:\n",
    "        updated LLR from demapper\n",
    "        '''\n",
    "\n",
    "        symbol_num=int(len(Lc)/self.modem.N) #シンボルの長さ\n",
    "\n",
    "        #print(Pre_info[:30])\n",
    "        #Pre_info=Pre_info.reshape([modem.N,symbol_num],order='F') #各シンボルで受信したビットごとに並べ替える　(symbol_num*bits_in_symbol)\n",
    "\n",
    "        print(Pre_info.reshape([self.modem.N,symbol_num],order='F').shape)\n",
    "        \n",
    "        Pre_info_mat=self.mat@(Pre_info.reshape([self.modem.N,symbol_num],order='F'))#+Lc.reshape([modem.N,symbol_num],order='F'))\n",
    "        \n",
    "\n",
    "        print(self.modem.N)\n",
    "        print(Pre_info_mat.shape)\n",
    "        ex_mat_z=np.zeros(self.zeros.shape) #the matrix of symbol generate probability of the bit zero\n",
    "        ex_mat_o=np.zeros(self.zeros.shape) #bit ones\n",
    "        \n",
    "        print(self.zeros.shape)\n",
    "\n",
    "        for i in range(symbol_num): #1シンボル毎\n",
    "            for j in range(self.modem.N): #シンボル内の1ビットごと\n",
    "                ex_mat_z[:,i,j]-=Pre_info_mat[self.zeros_key[j],i]\n",
    "                ex_mat_o[:,i,j]-=Pre_info_mat[self.ones_key[j],i]\n",
    "\n",
    "        num=np.exp(-1*np.array(self.zeros)/No+ex_mat_z)\n",
    "        num=np.sum(num,axis=0,keepdims=True)\n",
    "        num=np.clip(num,10**(-15),10**15)\n",
    "        num=np.log(num)\n",
    "\n",
    "        den=np.exp(-1*np.array(self.ones)/No+ex_mat_o)\n",
    "        den=np.sum(den,axis=0,keepdims=True)\n",
    "        den=np.clip(den,10**(-15),10**15)\n",
    "        den=np.log(den)\n",
    "\n",
    "        res_Lc=(np.transpose(num[0]) - np.transpose(den[0])).ravel(order='F')  \n",
    "        \n",
    "        return res_Lc-Pre_info\n",
    "\n",
    "K=512\n",
    "M=4096\n",
    "EsNodB=0\n",
    "EsNo = 10 ** (EsNodB / 10)\n",
    "No=1/EsNo\n",
    "mysys=Mysystem_LDPC(M,K)\n",
    "modem=mysys.modem\n",
    "Lc,[zeros,ones]=mysys.main_func(EsNodB) #Lcはデインターリーブされていない\n",
    "#decode \n",
    "EST_cwd,EX_info=mysys.dc.LDPC_decode(Lc[mysys.BICM_deint]) #MAPデコーダで出てきた外部値を取得\n",
    "\n",
    "Pre_info=EX_info[mysys.BICM_int]+Lc#順番の入れ替えをして、事前値にする\n",
    "print(Pre_info.shape)\n",
    "print(Lc.shape)\n",
    "\n",
    "dmp=BICM_ID(modem,zeros,ones)\n",
    "print(dmp.demapper(Pre_info,Lc))\n",
    "print(Lc)"
   ]
  },
  {
   "cell_type": "code",
   "execution_count": 31,
   "metadata": {},
   "outputs": [],
   "source": [
    "class BICM_ID:\n",
    "    def __init__(self,modem,zeros,ones):\n",
    "        self.modem=modem\n",
    "        self.zeros=zeros\n",
    "        self.ones=ones\n",
    "        self.zeros_key,self.ones_key=self.key_preparation(modem)\n",
    "    \n",
    "    @staticmethod\n",
    "    def key_preparation(modem):\n",
    "        \"\"\" Creates the coordinates\n",
    "        where either zeros or ones can be placed in the signal constellation..\n",
    "        Returns\n",
    "        -------\n",
    "        zeros : list of lists of complex values\n",
    "            The coordinates where zeros can be placed in the signal constellation.\n",
    "        ones : list of lists of complex values\n",
    "            The coordinates where ones can be placed in the signal constellation.\n",
    "        \"\"\"\n",
    "\n",
    "        zeros = [[] for i in range(modem.N)]\n",
    "        ones = [[] for i in range(modem.N)]\n",
    "\n",
    "        bin_seq = modem.de2bin(modem.m)\n",
    "\n",
    "        for bin_idx, bin_symb in enumerate(bin_seq):\n",
    "            if modem.bin_input == True:\n",
    "                key = bin_symb\n",
    "            else:\n",
    "                key = bin_idx\n",
    "            for possition, digit in enumerate(bin_symb):\n",
    "                if digit == '0':\n",
    "                    zeros[possition].append(key)\n",
    "                else:\n",
    "                    ones[possition].append(key)\n",
    "        \n",
    "        #from str list to int array \n",
    "        for i in range(len(zeros)):\n",
    "            zeros[i]=np.array([int(s, 2) for s in zeros[i]])\n",
    "            ones[i]=np.array([int(s, 2) for s in ones[i]])\n",
    "                    \n",
    "        return zeros, ones\n",
    "\n",
    "BICM_ID=BICM_ID(modem,zeros,ones)"
   ]
  },
  {
   "cell_type": "code",
   "execution_count": 251,
   "metadata": {},
   "outputs": [
    {
     "name": "stdout",
     "output_type": "stream",
     "text": [
      "512\n"
     ]
    },
    {
     "ename": "TypeError",
     "evalue": "only size-1 arrays can be converted to Python scalars",
     "output_type": "error",
     "traceback": [
      "\u001b[0;31m---------------------------------------------------------------------------\u001b[0m",
      "\u001b[0;31mTypeError\u001b[0m                                 Traceback (most recent call last)",
      "\u001b[1;32m/home/kaneko/Dropbox/programming/geometric_shaping/BICM_ID.ipynb Cell 9'\u001b[0m in \u001b[0;36m<cell line: 18>\u001b[0;34m()\u001b[0m\n\u001b[1;32m     <a href='vscode-notebook-cell://ssh-remote%2Bsoundgarden.ochiailab.jp/home/kaneko/Dropbox/programming/geometric_shaping/BICM_ID.ipynb#ch0000019vscode-remote?line=14'>15</a>\u001b[0m \u001b[39mfor\u001b[39;00m i \u001b[39min\u001b[39;00m \u001b[39mrange\u001b[39m(symbol_num): \n\u001b[1;32m     <a href='vscode-notebook-cell://ssh-remote%2Bsoundgarden.ochiailab.jp/home/kaneko/Dropbox/programming/geometric_shaping/BICM_ID.ipynb#ch0000019vscode-remote?line=15'>16</a>\u001b[0m     delta_St[:,i]\u001b[39m=\u001b[39m\u001b[39m-\u001b[39m\u001b[39m1\u001b[39m\u001b[39m*\u001b[39mmat\u001b[39m@Pre_info\u001b[39m[i,:] \u001b[39m#i番目のシンボルにおいて、それぞれのシンボルの正規確率の差分を求める\u001b[39;00m\n\u001b[0;32m---> <a href='vscode-notebook-cell://ssh-remote%2Bsoundgarden.ochiailab.jp/home/kaneko/Dropbox/programming/geometric_shaping/BICM_ID.ipynb#ch0000019vscode-remote?line=17'>18</a>\u001b[0m llr2prob(EX_info)\n\u001b[1;32m     <a href='vscode-notebook-cell://ssh-remote%2Bsoundgarden.ochiailab.jp/home/kaneko/Dropbox/programming/geometric_shaping/BICM_ID.ipynb#ch0000019vscode-remote?line=19'>20</a>\u001b[0m \u001b[39mprint\u001b[39m(mat)\n\u001b[1;32m     <a href='vscode-notebook-cell://ssh-remote%2Bsoundgarden.ochiailab.jp/home/kaneko/Dropbox/programming/geometric_shaping/BICM_ID.ipynb#ch0000019vscode-remote?line=20'>21</a>\u001b[0m \u001b[39mprint\u001b[39m(Pre_info[\u001b[39m0\u001b[39m,:])\n",
      "\u001b[1;32m/home/kaneko/Dropbox/programming/geometric_shaping/BICM_ID.ipynb Cell 8'\u001b[0m in \u001b[0;36mllr2prob\u001b[0;34m(llr)\u001b[0m\n\u001b[1;32m      <a href='vscode-notebook-cell://ssh-remote%2Bsoundgarden.ochiailab.jp/home/kaneko/Dropbox/programming/geometric_shaping/BICM_ID.ipynb#ch0000028vscode-remote?line=0'>1</a>\u001b[0m \u001b[39mdef\u001b[39;00m \u001b[39mllr2prob\u001b[39m(llr):\n\u001b[1;32m      <a href='vscode-notebook-cell://ssh-remote%2Bsoundgarden.ochiailab.jp/home/kaneko/Dropbox/programming/geometric_shaping/BICM_ID.ipynb#ch0000028vscode-remote?line=1'>2</a>\u001b[0m     log\u001b[39m=\u001b[39m\u001b[39mTrue\u001b[39;00m\n\u001b[0;32m----> <a href='vscode-notebook-cell://ssh-remote%2Bsoundgarden.ochiailab.jp/home/kaneko/Dropbox/programming/geometric_shaping/BICM_ID.ipynb#ch0000028vscode-remote?line=2'>3</a>\u001b[0m     p0\u001b[39m=\u001b[39mmath\u001b[39m.\u001b[39;49mexp(llr)\u001b[39m/\u001b[39m(\u001b[39m1\u001b[39m\u001b[39m+\u001b[39mmath\u001b[39m.\u001b[39mexp(llr))\n\u001b[1;32m      <a href='vscode-notebook-cell://ssh-remote%2Bsoundgarden.ochiailab.jp/home/kaneko/Dropbox/programming/geometric_shaping/BICM_ID.ipynb#ch0000028vscode-remote?line=3'>4</a>\u001b[0m     p1\u001b[39m=\u001b[39m\u001b[39m1\u001b[39m\u001b[39m/\u001b[39m(\u001b[39m1\u001b[39m\u001b[39m+\u001b[39mmath\u001b[39m.\u001b[39mexp(llr))\n\u001b[1;32m      <a href='vscode-notebook-cell://ssh-remote%2Bsoundgarden.ochiailab.jp/home/kaneko/Dropbox/programming/geometric_shaping/BICM_ID.ipynb#ch0000028vscode-remote?line=4'>5</a>\u001b[0m     \u001b[39mif\u001b[39;00m log\u001b[39m==\u001b[39m\u001b[39mTrue\u001b[39;00m:\n",
      "\u001b[0;31mTypeError\u001b[0m: only size-1 arrays can be converted to Python scalars"
     ]
    }
   ],
   "source": [
    "Lc,[zeros,ones]=mysys.main_func(EsNodB) #Lcはデインターリーブされていない\n",
    "#decode \n",
    "EST_cwd,EX_info=mysys.dc.LDPC_decode(Lc[mysys.BICM_deint]) #MAPデコーダで出てきた外部値を取得\n",
    "\n",
    "Pre_info=EX_info[mysys.BICM_int]#順番の入れ替えをして、事前値にする\n",
    "\n",
    "#lambda_Lc=EX_info+Lc #更新されたLLRの値\n",
    "\n",
    "symbol_num=int(len(Lc)/modem.N) #シンボルの長さ\n",
    "print(symbol_num)\n",
    "\n",
    "Pre_info=Pre_info.reshape(symbol_num,modem.N) #各シンボルで受信したビットごとに並べ替える　(symbol_num*bits_in_symbol)\n",
    "\n",
    "delta_St=np.zeros((M,symbol_num)) #各信号点の生起確率を計算する\n",
    "for i in range(symbol_num): \n",
    "    delta_St[:,i]=-1*mat@Pre_info[i,:] #i番目のシンボルにおいて、それぞれのシンボルの正規確率の差分を求める\n",
    "\n",
    "llr2prob(EX_info)\n",
    "\n",
    "print(mat)\n",
    "print(Pre_info[0,:])\n",
    "print(delta_St[:,0])"
   ]
  },
  {
   "cell_type": "code",
   "execution_count": 233,
   "metadata": {},
   "outputs": [
    {
     "name": "stdout",
     "output_type": "stream",
     "text": [
      "[[  0.           0.           0.         ...   0.           0.\n",
      "    0.        ]\n",
      " [ -9.24119333  -9.02917316   9.8219848  ...  -4.77631019  -3.08403718\n",
      "    7.42137948]\n",
      " [-13.66339525 -12.24321817  21.69475357 ... -16.22463737   5.93417585\n",
      "   -3.26593909]\n",
      " [ -4.42220192  -3.21404501  11.87276878 ... -11.44832718   9.01821303\n",
      "  -10.68731858]]\n"
     ]
    }
   ],
   "source": [
    "print(delta_St)"
   ]
  },
  {
   "cell_type": "code",
   "execution_count": 234,
   "metadata": {},
   "outputs": [
    {
     "name": "stdout",
     "output_type": "stream",
     "text": [
      "(1, 512, 2)\n",
      "(1024,)\n"
     ]
    }
   ],
   "source": [
    "a=modem.calc_exp(zeros,No)\n",
    "b=modem.calc_exp(ones,No)\n",
    "print(a.shape)\n",
    "print(a.ravel().shape)\n",
    "Lc3=(np.transpose(a[0]) - np.transpose(b[0])).ravel(order='F')\n",
    "if np.any(Lc3!=Lc):\n",
    "    print(\"error!\")"
   ]
  },
  {
   "cell_type": "code",
   "execution_count": 224,
   "metadata": {},
   "outputs": [
    {
     "name": "stdout",
     "output_type": "stream",
     "text": [
      "(1024,)\n"
     ]
    }
   ],
   "source": [
    "LLR = []\n",
    "for i in range(modem.N):#すべてのシンボルのiビット目のビットについて考える\n",
    "    new_zeros=zeros[:,:,i]+delta_St[zeros_key[i],:]\n",
    "    new_ones=ones[:,:,i]+delta_St[ones_key[i],:]\n",
    "    \n",
    "    num_post=modem.calc_exp(new_zeros,No)\n",
    "    denum_post=modem.calc_exp(new_ones,No)\n",
    "    llr = np.transpose(num_post[0]) - np.transpose(denum_post[0]) #二次元配列になってしまっているので、1次元に直す\n",
    "    LLR.append(llr)\n",
    "\n",
    "result = np.zeros((symbol_num * len(zeros_key)))\n",
    "for i, llr_i in enumerate(LLR):\n",
    "    result[i::len(zeros_key)] = llr_i\n",
    "\n",
    "print(result.shape)"
   ]
  },
  {
   "cell_type": "code",
   "execution_count": 237,
   "metadata": {},
   "outputs": [
    {
     "name": "stdout",
     "output_type": "stream",
     "text": [
      "[-12.24606445 -18.44567462  -5.03469357 ...  -3.68426571  -9.81412753\n",
      "   5.50035485]\n"
     ]
    }
   ],
   "source": [
    "\n",
    "\n",
    "print(result-Lc-Pre_info.ravel())"
   ]
  },
  {
   "cell_type": "code",
   "execution_count": null,
   "metadata": {},
   "outputs": [],
   "source": []
  }
 ],
 "metadata": {
  "interpreter": {
   "hash": "31f2aee4e71d21fbe5cf8b01ff0e069b9275f58929596ceb00d14d90e3e16cd6"
  },
  "kernelspec": {
   "display_name": "Python 3.8.10 64-bit",
   "language": "python",
   "name": "python3"
  },
  "language_info": {
   "codemirror_mode": {
    "name": "ipython",
    "version": 3
   },
   "file_extension": ".py",
   "mimetype": "text/x-python",
   "name": "python",
   "nbconvert_exporter": "python",
   "pygments_lexer": "ipython3",
   "version": "3.8.10"
  },
  "orig_nbformat": 4
 },
 "nbformat": 4,
 "nbformat_minor": 2
}
