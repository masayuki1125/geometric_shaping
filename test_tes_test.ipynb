{
 "cells": [
  {
   "cell_type": "code",
   "execution_count": 1,
   "metadata": {},
   "outputs": [
    {
     "data": {
      "text/plain": [
       "-2.220446049250313e-16"
      ]
     },
     "execution_count": 1,
     "metadata": {},
     "output_type": "execute_result"
    }
   ],
   "source": [
    "import numpy as np\n",
    "zeta=1.1102230246251565e-16\n",
    "-2*zeta+zeta**2+zeta**3"
   ]
  },
  {
   "cell_type": "code",
   "execution_count": null,
   "metadata": {},
   "outputs": [],
   "source": [
    "def make_BICM_int(self,N,M,type):\n",
    "        \n",
    "        BICM_int=np.arange(N,dtype=int)\n",
    "        #modify BICM int from simplified to arikan decoder order\n",
    "        bit_reversal_sequence=self.cd.bit_reversal_sequence\n",
    "        BICM_int=BICM_int[bit_reversal_sequence]\n",
    "        \n",
    "        if type==1:#1:separated scheme \n",
    "            pass\n",
    "        elif type==2:#2:Block intlv(No intlv in arikan polar decoder) \n",
    "            BICM_int=np.reshape(BICM_int,[int(np.log2(M**(1/2))),-1],order='C')\n",
    "            BICM_int[0]=np.sort(BICM_int[0])\n",
    "            BICM_int[1]=np.sort(BICM_int[1])\n",
    "            BICM_int=np.ravel(BICM_int,order='C')\n",
    "            print(BICM_int)\n",
    "            \n",
    "        elif type==3:#3:No intlv(Block intlv in arikan polar decoder) \n",
    "            BICM_int=np.reshape(BICM_int,[int(np.log2(M**(1/2))),-1],order='C')\n",
    "            BICM_int=np.ravel(BICM_int,order='F')\n",
    "        elif type==4:#4:rand intlv\n",
    "            tmp,_=make_BICM(N)\n",
    "            BICM_int=BICM_int[tmp]\n",
    "        elif type==5:#2:Block intlv(No intlv in arikan polar decoder) \n",
    "            tmp=np.arange(N//int(np.log2(M**(1/2))),dtype=int)\n",
    "            random.shuffle(tmp)\n",
    "            BICM_int=np.reshape(BICM_int,[int(np.log2(M**(1/2))),-1],order='C')\n",
    "            for i in range (int(np.log2(M**(1/2)))):\n",
    "                BICM_int[i]=BICM_int[i][tmp]\n",
    "            BICM_int=np.ravel(BICM_int,order='C')\n",
    "        elif type==6:\n",
    "            BICM_int=np.reshape(BICM_int,[int(np.log2(M**(1/2))),-1],order='C')\n",
    "            for i in range (int(np.log2(M**(1/2)))):\n",
    "                tmp=np.arange(N//int(np.log2(M**(1/2))),dtype=int)\n",
    "                random.shuffle(tmp)\n",
    "                BICM_int[i]=BICM_int[i][tmp]\n",
    "            BICM_int=np.ravel(BICM_int,order='C')\n",
    "            \n",
    "        else:\n",
    "            print(\"interleaver type error\")\n",
    "            \n",
    "        \n",
    "            \n",
    "        BICM_deint=np.argsort(BICM_int)\n",
    "        \n",
    "        #np.savetxt(\"deint\",BICM_deint,fmt='%.0f')\n",
    "        \n",
    "        #print(BICM_int)\n",
    "        #print(BICM_deint)\n",
    "        \n",
    "        return BICM_int,BICM_deint"
   ]
  },
  {
   "cell_type": "code",
   "execution_count": 3,
   "metadata": {},
   "outputs": [],
   "source": [
    "def llr_preparation(self):\n",
    "        \"\"\" Creates the coordinates\n",
    "        where either zeros or ones can be placed in the signal constellation..\n",
    "        Returns\n",
    "        -------\n",
    "        zeros : list of lists of complex values\n",
    "            The coordinates where zeros can be placed in the signal constellation.\n",
    "        ones : list of lists of complex values\n",
    "            The coordinates where ones can be placed in the signal constellation.\n",
    "        \"\"\"\n",
    "        code_book = self.code_book\n",
    "\n",
    "        zeros = [[] for i in range(self.N)]\n",
    "        ones = [[] for i in range(self.N)]\n",
    "\n",
    "        bin_seq = self.de2bin(self.m)\n",
    "\n",
    "        for bin_idx, bin_symb in enumerate(bin_seq):\n",
    "            if self.bin_input == True:\n",
    "                key = bin_symb\n",
    "            else:\n",
    "                key = bin_idx\n",
    "            for possition, digit in enumerate(bin_symb):\n",
    "                if digit == '0':\n",
    "                    zeros[possition].append(bin_symb)\n",
    "                else:\n",
    "                    ones[possition].append(bin_symb)\n",
    "        return zeros, ones"
   ]
  },
  {
   "cell_type": "code",
   "execution_count": 10,
   "metadata": {},
   "outputs": [
    {
     "name": "stdout",
     "output_type": "stream",
     "text": [
      "['0000', '0001', '0010', '0011', '1000', '1001', '1010', '1011']\n",
      "['0100', '0101', '0110', '0111', '1100', '1101', '1110', '1111']\n"
     ]
    }
   ],
   "source": [
    "\n",
    "from modulation.modulation import QAMModem\n",
    "modem=QAMModem(16)\n",
    "zeros,ones=llr_preparation(modem)\n",
    "print(zeros[1])\n",
    "print(ones[1])"
   ]
  },
  {
   "cell_type": "code",
   "execution_count": 36,
   "metadata": {},
   "outputs": [
    {
     "name": "stdout",
     "output_type": "stream",
     "text": [
      "[ 0 10  1 11  2 12  3 13  4 14  5 15  6 16  7 17  8 18  9 19]\n"
     ]
    }
   ],
   "source": [
    "interleaver=np.arange(20)\n",
    "interleaver=np.reshape(interleaver,[2,-1],order='C')\n",
    "interleaver=np.ravel(interleaver,order='F')\n",
    "print(interleaver)"
   ]
  },
  {
   "cell_type": "code",
   "execution_count": 37,
   "metadata": {},
   "outputs": [
    {
     "name": "stdout",
     "output_type": "stream",
     "text": [
      "[[ 0  1  2  3  4  5  6  7  8  9]\n",
      " [10 11 12 13 14 15 16 17 18 19]]\n",
      "[[10 10]\n",
      " [12 11]\n",
      " [14 12]\n",
      " [16 13]\n",
      " [18 14]\n",
      " [20 15]\n",
      " [22 16]\n",
      " [24 17]\n",
      " [26 18]\n",
      " [28 19]]\n",
      "[10 10 12 11 14 12 16 13 18 14 20 15 22 16 24 17 26 18 28 19]\n"
     ]
    }
   ],
   "source": [
    "a=np.arange(20)\n",
    "\n",
    "a=np.reshape(a,[2,-1],order='C')\n",
    "print(a)\n",
    "map=(a.T@np.array([[1,0],[1,1]]))\n",
    "\n",
    "print(map)\n",
    "map=np.ravel(map,order='F')\n",
    "print(map[interleaver])"
   ]
  },
  {
   "cell_type": "code",
   "execution_count": 38,
   "metadata": {},
   "outputs": [
    {
     "name": "stdout",
     "output_type": "stream",
     "text": [
      "[[ 0  1]\n",
      " [10 11]]\n",
      "[10 10 12 11]\n"
     ]
    }
   ],
   "source": [
    "a=np.ravel(a,order='C')[interleaver][:4]\n",
    "\n",
    "a=np.reshape(a,[2,-1],order='F')\n",
    "print(a)\n",
    "map=(a.T@np.array([[1,0],[1,1]]))\n",
    "map=np.ravel(map,order='C')\n",
    "print(map)"
   ]
  },
  {
   "cell_type": "code",
   "execution_count": 18,
   "metadata": {},
   "outputs": [
    {
     "name": "stdout",
     "output_type": "stream",
     "text": [
      "[array([0, 0]), array([0, 1]), array([1, 0]), array([1, 1])]\n"
     ]
    }
   ],
   "source": [
    "from modulation.modulation import QAMModem\n",
    "modem=QAMModem(16)\n",
    "G_0=np.array([[1,0],[1,1]])\n",
    "base_num=2\n",
    "\n",
    "decs=[dec for dec in range(2**2)]\n",
    "bin_out = [np.binary_repr(d, width=base_num) for d in decs]\n",
    "bin_out= [np.array(list(bin_out_str),dtype=int) for bin_out_str in bin_out]\n",
    "print(bin_out)"
   ]
  },
  {
   "cell_type": "code",
   "execution_count": 30,
   "metadata": {},
   "outputs": [
    {
     "data": {
      "text/plain": [
       "65536"
      ]
     },
     "execution_count": 30,
     "metadata": {},
     "output_type": "execute_result"
    }
   ],
   "source": [
    "2**2**4"
   ]
  },
  {
   "cell_type": "code",
   "execution_count": 28,
   "metadata": {},
   "outputs": [
    {
     "data": {
      "text/plain": [
       "'11'"
      ]
     },
     "execution_count": 28,
     "metadata": {},
     "output_type": "execute_result"
    }
   ],
   "source": [
    "a=np.array([1,1],dtype=int)\n",
    "a=np.array(a,dtype=str)\n",
    "''.join(a)"
   ]
  },
  {
   "cell_type": "code",
   "execution_count": 8,
   "metadata": {},
   "outputs": [
    {
     "name": "stdout",
     "output_type": "stream",
     "text": [
      "[0 1 2 3 4 5 6 7 8 9]\n",
      "[0 1 2 3 4 5 6 7 8 9]\n",
      "[0 1 2 3 4 5 6 7 8 9 0 1 2 3 4 5 6 7 8 9]\n"
     ]
    }
   ],
   "source": [
    "import numpy as np\n",
    "b=np.arange(10)\n",
    "print(b)\n",
    "a=np.empty(0,dtype=int)\n",
    "a\n",
    "a=np.block([a,b])\n",
    "print(a)\n",
    "a=np.block([a,b])\n",
    "print(a)"
   ]
  },
  {
   "cell_type": "code",
   "execution_count": 22,
   "metadata": {},
   "outputs": [
    {
     "ename": "ModuleNotFoundError",
     "evalue": "No module named 'ray.test'",
     "output_type": "error",
     "traceback": [
      "\u001b[0;31m---------------------------------------------------------------------------\u001b[0m",
      "\u001b[0;31mModuleNotFoundError\u001b[0m                       Traceback (most recent call last)",
      "\u001b[1;32m/home/kaneko/Dropbox/programming/geometric_shaping/test.ipynb Cell 1'\u001b[0m in \u001b[0;36m<cell line: 4>\u001b[0;34m()\u001b[0m\n\u001b[1;32m      <a href='vscode-notebook-cell://ssh-remote%2Bsoundgarden.ochiailab.jp/home/kaneko/Dropbox/programming/geometric_shaping/test.ipynb#ch0000021vscode-remote?line=0'>1</a>\u001b[0m \u001b[39mimport\u001b[39;00m \u001b[39mtime\u001b[39;00m\n\u001b[1;32m      <a href='vscode-notebook-cell://ssh-remote%2Bsoundgarden.ochiailab.jp/home/kaneko/Dropbox/programming/geometric_shaping/test.ipynb#ch0000021vscode-remote?line=2'>3</a>\u001b[0m \u001b[39mimport\u001b[39;00m \u001b[39mray\u001b[39;00m \n\u001b[0;32m----> <a href='vscode-notebook-cell://ssh-remote%2Bsoundgarden.ochiailab.jp/home/kaneko/Dropbox/programming/geometric_shaping/test.ipynb#ch0000021vscode-remote?line=3'>4</a>\u001b[0m \u001b[39mfrom\u001b[39;00m \u001b[39mray\u001b[39;00m\u001b[39m.\u001b[39;00m\u001b[39mtest\u001b[39;00m\u001b[39m.\u001b[39;00m\u001b[39mcluster_utils\u001b[39;00m \u001b[39mimport\u001b[39;00m Cluster\n\u001b[1;32m      <a href='vscode-notebook-cell://ssh-remote%2Bsoundgarden.ochiailab.jp/home/kaneko/Dropbox/programming/geometric_shaping/test.ipynb#ch0000021vscode-remote?line=5'>6</a>\u001b[0m cluster \u001b[39m=\u001b[39m Cluster(\u001b[39mTrue\u001b[39;00m, \u001b[39mTrue\u001b[39;00m, head_node_args\u001b[39m=\u001b[39m{\u001b[39m\"\u001b[39m\u001b[39mnum_cpus\u001b[39m\u001b[39m\"\u001b[39m: \u001b[39m0\u001b[39m})\n\u001b[1;32m      <a href='vscode-notebook-cell://ssh-remote%2Bsoundgarden.ochiailab.jp/home/kaneko/Dropbox/programming/geometric_shaping/test.ipynb#ch0000021vscode-remote?line=6'>7</a>\u001b[0m node \u001b[39m=\u001b[39m cluster\u001b[39m.\u001b[39madd_node()\n",
      "\u001b[0;31mModuleNotFoundError\u001b[0m: No module named 'ray.test'"
     ]
    }
   ],
   "source": [
    "import time\n",
    "\n",
    "import ray \n",
    "from ray.test.cluster_utils import Cluster\n",
    "\n",
    "cluster = Cluster(True, True, head_node_args={\"num_cpus\": 0})\n",
    "node = cluster.add_node()\n",
    "\n",
    "@ray.remote(num_cpus=1)\n",
    "class Foo:\n",
    "    def ping(self):\n",
    "        pass\n",
    "\n",
    "f = Foo.remote()\n",
    "\n",
    "print(\"pinging\")\n",
    "ray.get(f.ping.remote())\n",
    "\n",
    "x = f.ping.remote()\n",
    "\n",
    "print(\"removing node\")\n",
    "cluster.remove_node(node)\n",
    "print(\"done removing node\")\n",
    "\n",
    "for i in range(100):\n",
    "    print(i, ray.wait([x], timeout=1))\n",
    "    time.sleep(1)"
   ]
  },
  {
   "cell_type": "code",
   "execution_count": 23,
   "metadata": {},
   "outputs": [
    {
     "ename": "RuntimeError",
     "evalue": "Maybe you called ray.init twice by accident? This error can be suppressed by passing in 'ignore_reinit_error=True' or by calling 'ray.shutdown()' prior to 'ray.init()'.",
     "output_type": "error",
     "traceback": [
      "\u001b[0;31m---------------------------------------------------------------------------\u001b[0m",
      "\u001b[0;31mRuntimeError\u001b[0m                              Traceback (most recent call last)",
      "\u001b[1;32m/home/kaneko/Dropbox/programming/geometric_shaping/test.ipynb Cell 2'\u001b[0m in \u001b[0;36m<cell line: 14>\u001b[0;34m()\u001b[0m\n\u001b[1;32m     <a href='vscode-notebook-cell://ssh-remote%2Bsoundgarden.ochiailab.jp/home/kaneko/Dropbox/programming/geometric_shaping/test.ipynb#ch0000020vscode-remote?line=9'>10</a>\u001b[0m     time\u001b[39m.\u001b[39msleep(random\u001b[39m.\u001b[39mrandint(\u001b[39m3\u001b[39m, \u001b[39m15\u001b[39m))\n\u001b[1;32m     <a href='vscode-notebook-cell://ssh-remote%2Bsoundgarden.ochiailab.jp/home/kaneko/Dropbox/programming/geometric_shaping/test.ipynb#ch0000020vscode-remote?line=10'>11</a>\u001b[0m     \u001b[39mreturn\u001b[39;00m \u001b[39mf\u001b[39m\u001b[39m\"\u001b[39m\u001b[39mpid \u001b[39m\u001b[39m{\u001b[39;00mpid\u001b[39m}\u001b[39;00m\u001b[39m finished\u001b[39m\u001b[39m\"\u001b[39m\n\u001b[0;32m---> <a href='vscode-notebook-cell://ssh-remote%2Bsoundgarden.ochiailab.jp/home/kaneko/Dropbox/programming/geometric_shaping/test.ipynb#ch0000020vscode-remote?line=13'>14</a>\u001b[0m ray\u001b[39m.\u001b[39;49minit()\n\u001b[1;32m     <a href='vscode-notebook-cell://ssh-remote%2Bsoundgarden.ochiailab.jp/home/kaneko/Dropbox/programming/geometric_shaping/test.ipynb#ch0000020vscode-remote?line=14'>15</a>\u001b[0m start \u001b[39m=\u001b[39m time\u001b[39m.\u001b[39mtime()\n\u001b[1;32m     <a href='vscode-notebook-cell://ssh-remote%2Bsoundgarden.ochiailab.jp/home/kaneko/Dropbox/programming/geometric_shaping/test.ipynb#ch0000020vscode-remote?line=15'>16</a>\u001b[0m work_in_progresses \u001b[39m=\u001b[39m [worker_func\u001b[39m.\u001b[39mremote(i) \u001b[39mfor\u001b[39;00m i \u001b[39min\u001b[39;00m \u001b[39mrange\u001b[39m(\u001b[39m10\u001b[39m)]\n",
      "File \u001b[0;32m~/.local/lib/python3.8/site-packages/ray/_private/client_mode_hook.py:105\u001b[0m, in \u001b[0;36mclient_mode_hook.<locals>.wrapper\u001b[0;34m(*args, **kwargs)\u001b[0m\n\u001b[1;32m    103\u001b[0m     \u001b[39mif\u001b[39;00m func\u001b[39m.\u001b[39m\u001b[39m__name__\u001b[39m \u001b[39m!=\u001b[39m \u001b[39m\"\u001b[39m\u001b[39minit\u001b[39m\u001b[39m\"\u001b[39m \u001b[39mor\u001b[39;00m is_client_mode_enabled_by_default:\n\u001b[1;32m    104\u001b[0m         \u001b[39mreturn\u001b[39;00m \u001b[39mgetattr\u001b[39m(ray, func\u001b[39m.\u001b[39m\u001b[39m__name__\u001b[39m)(\u001b[39m*\u001b[39margs, \u001b[39m*\u001b[39m\u001b[39m*\u001b[39mkwargs)\n\u001b[0;32m--> 105\u001b[0m \u001b[39mreturn\u001b[39;00m func(\u001b[39m*\u001b[39;49margs, \u001b[39m*\u001b[39;49m\u001b[39m*\u001b[39;49mkwargs)\n",
      "File \u001b[0;32m~/.local/lib/python3.8/site-packages/ray/worker.py:1194\u001b[0m, in \u001b[0;36minit\u001b[0;34m(address, num_cpus, num_gpus, resources, object_store_memory, local_mode, ignore_reinit_error, include_dashboard, dashboard_host, dashboard_port, job_config, configure_logging, logging_level, logging_format, log_to_driver, namespace, runtime_env, storage, **kwargs)\u001b[0m\n\u001b[1;32m   1192\u001b[0m         \u001b[39mreturn\u001b[39;00m RayContext(\u001b[39mdict\u001b[39m(_global_node\u001b[39m.\u001b[39maddress_info, node_id\u001b[39m=\u001b[39mnode_id\u001b[39m.\u001b[39mhex()))\n\u001b[1;32m   1193\u001b[0m     \u001b[39melse\u001b[39;00m:\n\u001b[0;32m-> 1194\u001b[0m         \u001b[39mraise\u001b[39;00m \u001b[39mRuntimeError\u001b[39;00m(\n\u001b[1;32m   1195\u001b[0m             \u001b[39m\"\u001b[39m\u001b[39mMaybe you called ray.init twice by accident? \u001b[39m\u001b[39m\"\u001b[39m\n\u001b[1;32m   1196\u001b[0m             \u001b[39m\"\u001b[39m\u001b[39mThis error can be suppressed by passing in \u001b[39m\u001b[39m\"\u001b[39m\n\u001b[1;32m   1197\u001b[0m             \u001b[39m\"\u001b[39m\u001b[39m'\u001b[39m\u001b[39mignore_reinit_error=True\u001b[39m\u001b[39m'\u001b[39m\u001b[39m or by calling \u001b[39m\u001b[39m\"\u001b[39m\n\u001b[1;32m   1198\u001b[0m             \u001b[39m\"\u001b[39m\u001b[39m'\u001b[39m\u001b[39mray.shutdown()\u001b[39m\u001b[39m'\u001b[39m\u001b[39m prior to \u001b[39m\u001b[39m'\u001b[39m\u001b[39mray.init()\u001b[39m\u001b[39m'\u001b[39m\u001b[39m.\u001b[39m\u001b[39m\"\u001b[39m\n\u001b[1;32m   1199\u001b[0m         )\n\u001b[1;32m   1201\u001b[0m _system_config \u001b[39m=\u001b[39m _system_config \u001b[39mor\u001b[39;00m {}\n\u001b[1;32m   1202\u001b[0m \u001b[39mif\u001b[39;00m \u001b[39mnot\u001b[39;00m \u001b[39misinstance\u001b[39m(_system_config, \u001b[39mdict\u001b[39m):\n",
      "\u001b[0;31mRuntimeError\u001b[0m: Maybe you called ray.init twice by accident? This error can be suppressed by passing in 'ignore_reinit_error=True' or by calling 'ray.shutdown()' prior to 'ray.init()'."
     ]
    }
   ],
   "source": [
    "\n",
    "import ray\n",
    "import time\n",
    "import random\n",
    "\n",
    "\n",
    "@ray.remote\n",
    "def worker_func(pid):\n",
    "    \"\"\"各プロセスの実行には3-15秒かかる\n",
    "    \"\"\"\n",
    "    time.sleep(random.randint(3, 15))\n",
    "    return f\"pid {pid} finished\"\n",
    "\n",
    "\n",
    "ray.init()\n",
    "start = time.time()\n",
    "work_in_progresses = [worker_func.remote(i) for i in range(10)]\n",
    "ray.cancel(work_in_progresses[3])\n",
    "for i in range(10):\n",
    "    \n",
    "    finished, work_in_progresses = ray.wait(work_in_progresses, num_returns=1)\n",
    "    orf = finished[0]\n",
    "    print(len(finished))\n",
    "    print(len(work_in_progresses))\n",
    "    print(ray.get(orf))\n",
    "    print(\"Elapsed:\", time.time() - start)"
   ]
  },
  {
   "cell_type": "code",
   "execution_count": 42,
   "metadata": {},
   "outputs": [
    {
     "name": "stdout",
     "output_type": "stream",
     "text": [
      "1\n",
      "10\n",
      "pid 1 finished\n",
      "Elapsed: 10.0430326461792\n",
      "\u001b[2m\u001b[36m(worker_func pid=2331903)\u001b[0m not breaked 1\n",
      "1\n",
      "10\n",
      "pid 5 finished\n",
      "Elapsed: 11.015307664871216\n",
      "\u001b[2m\u001b[36m(worker_func pid=2331886)\u001b[0m not breaked 5\n",
      "1\n",
      "10\n",
      "pid 4 finished\n",
      "Elapsed: 14.075342655181885\n",
      "\u001b[2m\u001b[36m(worker_func pid=2331908)\u001b[0m not breaked 4\n",
      "1\n",
      "10\n",
      "pid 8 finished\n",
      "Elapsed: 15.163508176803589\n",
      "\u001b[2m\u001b[36m(worker_func pid=2331895)\u001b[0m not breaked 8\n",
      "1\n",
      "10\n",
      "pid 0 finished\n",
      "Elapsed: 18.08168864250183\n",
      "\u001b[2m\u001b[36m(worker_func pid=2331905)\u001b[0m not breaked 0\n",
      "1\n",
      "10\n",
      "pid 2 finished\n",
      "Elapsed: 19.099491834640503\n",
      "\u001b[2m\u001b[36m(worker_func pid=2331915)\u001b[0m not breaked 2\n",
      "1\n",
      "10\n",
      "pid 7 finished\n",
      "Elapsed: 20.061918020248413\n"
     ]
    },
    {
     "name": "stdout",
     "output_type": "stream",
     "text": [
      "\u001b[2m\u001b[36m(worker_func pid=2331882)\u001b[0m not breaked 7\n"
     ]
    },
    {
     "name": "stderr",
     "output_type": "stream",
     "text": [
      "2022-06-13 18:53:42,132\tERROR worker.py:289 -- Unhandled error (suppress with 'RAY_IGNORE_UNHANDLED_ERRORS=1'): \u001b[36mray::worker_func()\u001b[39m (pid=2331912, ip=133.34.30.166)\n",
      "  File \"/tmp/ipykernel_2330913/2530618250.py\", line 10, in worker_func\n",
      "KeyboardInterrupt\n",
      "\n",
      "During handling of the above exception, another exception occurred:\n",
      "\n",
      "\u001b[36mray::worker_func()\u001b[39m (pid=2331912, ip=133.34.30.166)\n",
      "ray.exceptions.TaskCancelledError: Task: TaskID(5d624e85d2955067ffffffffffffffffffffffff01000000) was cancelled\n",
      "2022-06-13 18:53:42,133\tERROR worker.py:289 -- Unhandled error (suppress with 'RAY_IGNORE_UNHANDLED_ERRORS=1'): \u001b[36mray::worker_func()\u001b[39m (pid=2331877, ip=133.34.30.166)\n",
      "  File \"/tmp/ipykernel_2330913/2530618250.py\", line 10, in worker_func\n",
      "KeyboardInterrupt\n",
      "\n",
      "During handling of the above exception, another exception occurred:\n",
      "\n",
      "\u001b[36mray::worker_func()\u001b[39m (pid=2331877, ip=133.34.30.166)\n",
      "ray.exceptions.TaskCancelledError: Task: TaskID(dd4376bd3c667794ffffffffffffffffffffffff01000000) was cancelled\n",
      "2022-06-13 18:53:42,135\tERROR worker.py:289 -- Unhandled error (suppress with 'RAY_IGNORE_UNHANDLED_ERRORS=1'): \u001b[36mray::worker_func()\u001b[39m (pid=2331914, ip=133.34.30.166)\n",
      "  File \"/tmp/ipykernel_2330913/2530618250.py\", line 10, in worker_func\n",
      "KeyboardInterrupt\n",
      "\n",
      "During handling of the above exception, another exception occurred:\n",
      "\n",
      "\u001b[36mray::worker_func()\u001b[39m (pid=2331914, ip=133.34.30.166)\n",
      "ray.exceptions.TaskCancelledError: Task: TaskID(219b636cf4ceded3ffffffffffffffffffffffff01000000) was cancelled\n"
     ]
    }
   ],
   "source": [
    "import ray\n",
    "import time\n",
    "import random\n",
    "\n",
    "\n",
    "@ray.remote\n",
    "def worker_func(pid):\n",
    "    \"\"\"各プロセスの実行には3-15秒かかる\n",
    "    \"\"\"\n",
    "    time.sleep(random.randint(10, 20))\n",
    "    \n",
    "    print(f\"not breaked {pid}\")\n",
    "    return f\"pid {pid} finished\"\n",
    "\n",
    "#ray.init()\n",
    "start = time.time()\n",
    "work_in_progresses = [worker_func.remote(i) for i in range(10)]\n",
    "tmp=work_in_progresses\n",
    "for i in range(10):\n",
    "    finished, work_in_progresses = ray.wait(work_in_progresses, num_returns=1)\n",
    "    print(len(finished))\n",
    "    print(len(tmp))  \n",
    "    orf = finished[0]\n",
    "    \n",
    "    print(ray.get(orf))\n",
    "    print(\"Elapsed:\", time.time() - start)\n",
    "    \n",
    "    if i>5:\n",
    "        for obj in work_in_progresses:\n",
    "            ray.cancel(obj,force=False)\n",
    "        del work_in_progresses\n",
    "        \n",
    "        break\n",
    "\n",
    "#print(\"break\")\n",
    "#finished, work_in_progresses = ray.wait(work_in_progresses, num_returns=1)    \n",
    "#orf = finished[0]\n",
    "\n",
    "#print(ray.get(orf))\n",
    "#print(\"Elapsed:\", time.time() - start)"
   ]
  },
  {
   "cell_type": "code",
   "execution_count": 8,
   "metadata": {},
   "outputs": [
    {
     "name": "stdout",
     "output_type": "stream",
     "text": [
      "[[1, 2, 3], [1, 2, 3], [1, 2, 3]]\n"
     ]
    }
   ],
   "source": [
    "a=[1,2,3]\n",
    "b=[a,a,a]\n",
    "print(b)\n"
   ]
  },
  {
   "cell_type": "code",
   "execution_count": 10,
   "metadata": {},
   "outputs": [
    {
     "ename": "NameError",
     "evalue": "name 'b' is not defined",
     "output_type": "error",
     "traceback": [
      "\u001b[0;31m---------------------------------------------------------------------------\u001b[0m",
      "\u001b[0;31mNameError\u001b[0m                                 Traceback (most recent call last)",
      "\u001b[1;32m/home/kaneko/Dropbox/programming/geometric_shaping/test.ipynb Cell 2'\u001b[0m in \u001b[0;36m<cell line: 1>\u001b[0;34m()\u001b[0m\n\u001b[0;32m----> <a href='vscode-notebook-cell://ssh-remote%2Bsoundgarden.ochiailab.jp/home/kaneko/Dropbox/programming/geometric_shaping/test.ipynb#ch0000017vscode-remote?line=0'>1</a>\u001b[0m \u001b[39mdel\u001b[39;00m b\n\u001b[1;32m      <a href='vscode-notebook-cell://ssh-remote%2Bsoundgarden.ochiailab.jp/home/kaneko/Dropbox/programming/geometric_shaping/test.ipynb#ch0000017vscode-remote?line=1'>2</a>\u001b[0m \u001b[39mprint\u001b[39m(b)\n",
      "\u001b[0;31mNameError\u001b[0m: name 'b' is not defined"
     ]
    }
   ],
   "source": [
    "del b\n",
    "print(b)"
   ]
  },
  {
   "cell_type": "code",
   "execution_count": 1,
   "metadata": {},
   "outputs": [
    {
     "name": "stderr",
     "output_type": "stream",
     "text": [
      "2022-06-09 23:39:49,739\tINFO services.py:1477 -- View the Ray dashboard at \u001b[1m\u001b[32mhttp://127.0.0.1:8265\u001b[39m\u001b[22m\n"
     ]
    },
    {
     "data": {
      "text/plain": [
       "RayContext(dashboard_url='127.0.0.1:8265', python_version='3.8.10', ray_version='3.0.0.dev0', ray_commit='65d7a610ab3b4ca455ab82503da0a8a9947b22a6', address_info={'node_ip_address': '133.34.30.166', 'raylet_ip_address': '133.34.30.166', 'redis_address': None, 'object_store_address': '/tmp/ray/session_2022-06-09_23-39-47_391795_2639484/sockets/plasma_store', 'raylet_socket_name': '/tmp/ray/session_2022-06-09_23-39-47_391795_2639484/sockets/raylet', 'webui_url': '127.0.0.1:8265', 'session_dir': '/tmp/ray/session_2022-06-09_23-39-47_391795_2639484', 'metrics_export_port': 62546, 'gcs_address': '133.34.30.166:60002', 'address': '133.34.30.166:60002', 'node_id': 'dd3495dd110992aa6f884ac785e48720f3007d7bf4e5c4a8a87e0417'})"
      ]
     },
     "execution_count": 1,
     "metadata": {},
     "output_type": "execute_result"
    }
   ],
   "source": [
    "from pprint import pprint\n",
    "import ray\n",
    "\n",
    "ray.shutdown()\n",
    "ray.init()"
   ]
  },
  {
   "cell_type": "code",
   "execution_count": null,
   "metadata": {},
   "outputs": [],
   "source": [
    "import cupy\n",
    "def process_0():\n",
    "    import cupyx.distributed\n",
    "    cupy.cuda.Device(0).use()\n",
    "    comm = cupyx.distributed.init_process_group(2, 0)\n",
    "    array = cupy.ones(1)\n",
    "    comm.broadcast(array, 0)\n",
    "\n",
    "def process_1():\n",
    "    import cupyx.distributed\n",
    "    cupy.cuda.Device(1).use()\n",
    "    comm = cupyx.distributed.init_process_group(2, 1)\n",
    "    array = cupy.zeros(1)\n",
    "    comm.broadcast(array, 0)\n",
    "    cupy.equal(array, cupy.ones(1))"
   ]
  },
  {
   "cell_type": "code",
   "execution_count": null,
   "metadata": {},
   "outputs": [],
   "source": [
    "process_0()"
   ]
  },
  {
   "cell_type": "code",
   "execution_count": null,
   "metadata": {},
   "outputs": [],
   "source": [
    "2**(2*8)"
   ]
  },
  {
   "cell_type": "code",
   "execution_count": null,
   "metadata": {},
   "outputs": [],
   "source": [
    "import numpy as np\n",
    "a=np.array([2,4,6,3,5])\n",
    "print(np.argsort(a))\n",
    "a=a[[1,0,2,3,4]]\n",
    "print(a)\n",
    "np.argsort(a)"
   ]
  },
  {
   "cell_type": "code",
   "execution_count": null,
   "metadata": {},
   "outputs": [],
   "source": [
    "def calc_J_inv(I):\n",
    "    '''\n",
    "    input:\n",
    "    I:mutual information\n",
    "    output:\n",
    "    gamma:channel SNR Es/No\n",
    "    ----\n",
    "    referrence:\n",
    "    POLAR CODES FOR ERROR CORRECTION:\n",
    "    ANALYSIS AND DECODING ALGORITHMS\n",
    "    p37\n",
    "    (4.5)\n",
    "    '''\n",
    "    if I>1 or I<0:\n",
    "        print(\"I is err\")\n",
    "    \n",
    "    a1=1.09542\n",
    "    b1=0.214217\n",
    "    c1=2.33727\n",
    "    a2=0.706692\n",
    "    b2=0.386013\n",
    "    c2=-1.75017\n",
    "    I_thresh=0.3646\n",
    "    \n",
    "    if I<I_thresh:\n",
    "        sigma=a1*I**2+b1*I+c1*I**(1/2)\n",
    "    else:\n",
    "        sigma=-a2*np.log(b2*(1-I))-c2*I\n",
    "        \n",
    "    gamma=sigma**2/8\n",
    "    #gamma_dB=10*math.log10(gamma)\n",
    "    return gamma"
   ]
  },
  {
   "cell_type": "code",
   "execution_count": 1,
   "metadata": {},
   "outputs": [
    {
     "ename": "NameError",
     "evalue": "name 'calc_J_inv' is not defined",
     "output_type": "error",
     "traceback": [
      "\u001b[0;31m---------------------------------------------------------------------------\u001b[0m",
      "\u001b[0;31mNameError\u001b[0m                                 Traceback (most recent call last)",
      "\u001b[1;32m/home/kaneko/Dropbox/programming/geometric_shaping/test.ipynb Cell 6'\u001b[0m in \u001b[0;36m<cell line: 5>\u001b[0;34m()\u001b[0m\n\u001b[1;32m      <a href='vscode-notebook-cell://ssh-remote%2Bsoundgarden.ochiailab.jp/home/kaneko/Dropbox/programming/geometric_shaping/test.ipynb#ch0000005vscode-remote?line=3'>4</a>\u001b[0m x\u001b[39m=\u001b[39mnp\u001b[39m.\u001b[39mzeros(\u001b[39mlen\u001b[39m(y))\n\u001b[1;32m      <a href='vscode-notebook-cell://ssh-remote%2Bsoundgarden.ochiailab.jp/home/kaneko/Dropbox/programming/geometric_shaping/test.ipynb#ch0000005vscode-remote?line=4'>5</a>\u001b[0m \u001b[39mfor\u001b[39;00m i \u001b[39min\u001b[39;00m \u001b[39mrange\u001b[39m(\u001b[39mlen\u001b[39m(y)):\n\u001b[0;32m----> <a href='vscode-notebook-cell://ssh-remote%2Bsoundgarden.ochiailab.jp/home/kaneko/Dropbox/programming/geometric_shaping/test.ipynb#ch0000005vscode-remote?line=5'>6</a>\u001b[0m     x[i]\u001b[39m=\u001b[39mcalc_J_inv(y[i])\n\u001b[1;32m      <a href='vscode-notebook-cell://ssh-remote%2Bsoundgarden.ochiailab.jp/home/kaneko/Dropbox/programming/geometric_shaping/test.ipynb#ch0000005vscode-remote?line=7'>8</a>\u001b[0m x\u001b[39m=\u001b[39m\u001b[39m10\u001b[39m\u001b[39m*\u001b[39mnp\u001b[39m.\u001b[39mlog10(x)\n\u001b[1;32m      <a href='vscode-notebook-cell://ssh-remote%2Bsoundgarden.ochiailab.jp/home/kaneko/Dropbox/programming/geometric_shaping/test.ipynb#ch0000005vscode-remote?line=8'>9</a>\u001b[0m plt\u001b[39m.\u001b[39mplot(x,y)\n",
      "\u001b[0;31mNameError\u001b[0m: name 'calc_J_inv' is not defined"
     ]
    }
   ],
   "source": [
    "import numpy as np\n",
    "import matplotlib.pyplot as plt\n",
    "y=np.arange(0,1,0.03)\n",
    "x=np.zeros(len(y))\n",
    "for i in range(len(y)):\n",
    "    x[i]=calc_J_inv(y[i])\n",
    "    \n",
    "x=10*np.log10(x)\n",
    "plt.plot(x,y)\n",
    "\n",
    "filename=\"J_inverse_function\"\n",
    "with open(filename,'w') as f:\n",
    "    for i in range(len(x)):\n",
    "        print(str(x[i]),str(y[i]),file=f)\n",
    "\n"
   ]
  },
  {
   "cell_type": "code",
   "execution_count": 24,
   "metadata": {},
   "outputs": [],
   "source": [
    "def reverse(index,n):\n",
    "    '''\n",
    "    make n into bit reversal order\n",
    "    '''\n",
    "    tmp=format (index,'b')\n",
    "    tmp=tmp.zfill(n+1)[:0:-1]\n",
    "    res=int(tmp,2) \n",
    "    return res"
   ]
  },
  {
   "cell_type": "code",
   "execution_count": 45,
   "metadata": {},
   "outputs": [
    {
     "name": "stdout",
     "output_type": "stream",
     "text": [
      "-2.1522446068913688\n"
     ]
    }
   ],
   "source": [
    "import numpy as np\n",
    "N=1024\n",
    "K=512\n",
    "M=256\n",
    "EsNodB=9.0\n",
    "dmin=(6/(M-1))**(1/2)\n",
    "gamma=10**(EsNodB/10)*dmin/2\n",
    "\n",
    "gammadb=10*np.log10(gamma)\n",
    "print(gammadb)"
   ]
  },
  {
   "cell_type": "code",
   "execution_count": 48,
   "metadata": {},
   "outputs": [
    {
     "name": "stdout",
     "output_type": "stream",
     "text": [
      "-2.2.dat\n",
      "[['0,' '-1.988294e+03']\n",
      " ['1,' '-3.986529e+02']\n",
      " ['2,' '-5.493686e+02']\n",
      " ...\n",
      " ['1021,' '2.283489e+01']\n",
      " ['1022,' '2.157829e+01']\n",
      " ['1023,' '2.795075e+01']]\n"
     ]
    }
   ],
   "source": [
    "\n",
    "n=int(np.log2(N))\n",
    "\n",
    "filename=str(-2.2)+'.dat'\n",
    "print(filename)\n",
    "a=np.loadtxt(filename,dtype=str)\n",
    "xi=np.zeros(N)\n",
    "print(a)\n",
    "xi=a[:,1].astype(float)"
   ]
  },
  {
   "cell_type": "code",
   "execution_count": 49,
   "metadata": {},
   "outputs": [],
   "source": [
    "tmp=np.argsort(xi)\n",
    "frozen_bits=np.sort(tmp[:N-K])\n",
    "info_bits=np.sort(tmp[N-K:])\n",
    "#bit reversal order\n",
    "for i in range(len(frozen_bits)):\n",
    "    frozen_bits[i]=reverse(frozen_bits[i],n)\n",
    "    \n",
    "frozen_bits=np.sort(frozen_bits)\n",
    "    \n",
    "for i in range(len(info_bits)):\n",
    "    info_bits[i]=reverse(info_bits[i],n)\n",
    "info_bits=np.sort(info_bits)\n"
   ]
  },
  {
   "cell_type": "code",
   "execution_count": 50,
   "metadata": {},
   "outputs": [
    {
     "name": "stdout",
     "output_type": "stream",
     "text": [
      "0\n"
     ]
    }
   ],
   "source": [
    "from polar_code.RCA import RCA\n",
    "const=RCA()\n",
    "a1,b1=const.main_const(N,K,EsNodB,256)\n",
    "a,b=const.main_const(N,K,gammadb,2)\n",
    "print(np.sum(a1!=a))\n",
    "\n",
    "\n",
    "dmin=(6/(M-1))**(1/2)\n",
    "gamma=10**(EsNodB/10)*dmin/2 #QPSK(sqrt(2))\n",
    "#gamma=gamma*np.ones(N)\n"
   ]
  },
  {
   "cell_type": "code",
   "execution_count": 51,
   "metadata": {},
   "outputs": [],
   "source": [
    "from polar_code.iGA import Improved_GA\n",
    "\n",
    "const=Improved_GA()\n",
    "c,d=const.main_const(N,K,EsNodB,256)"
   ]
  },
  {
   "cell_type": "code",
   "execution_count": 52,
   "metadata": {},
   "outputs": [
    {
     "name": "stdout",
     "output_type": "stream",
     "text": [
      "0\n",
      "277\n",
      "277\n"
     ]
    }
   ],
   "source": [
    "print(np.sum(a!=frozen_bits))\n",
    "print(np.sum(c!=frozen_bits))\n",
    "print(np.sum(c!=a))\n",
    "#print(a)\n",
    "#print(frozen_bits)"
   ]
  },
  {
   "cell_type": "code",
   "execution_count": 57,
   "metadata": {},
   "outputs": [
    {
     "name": "stdout",
     "output_type": "stream",
     "text": [
      "7\n",
      "6\n",
      "5\n",
      "4\n",
      "3\n",
      "2\n",
      "1\n",
      "0\n"
     ]
    }
   ],
   "source": [
    "M=256\n",
    "import math\n",
    "for i in range(0,int(math.log2(M)))[::-1]:\n",
    "    print(i)"
   ]
  },
  {
   "cell_type": "code",
   "execution_count": 54,
   "metadata": {},
   "outputs": [
    {
     "name": "stdout",
     "output_type": "stream",
     "text": [
      "0\n",
      "2\n",
      "2\n"
     ]
    }
   ],
   "source": [
    "const=0\n",
    "for i in range(len(a)):\n",
    "    if np.any(a[i]==frozen_bits)==False:\n",
    "        const+=1\n",
    "\n",
    "print(const)\n",
    "\n",
    "const=0\n",
    "for i in range(len(c)):\n",
    "    if np.any(c[i]==frozen_bits)==False:\n",
    "        const+=1\n",
    "\n",
    "print(const)\n",
    "\n",
    "\n",
    "const=0\n",
    "for i in range(len(c)):\n",
    "    if np.any(c[i]==a)==False:\n",
    "        const+=1\n",
    "\n",
    "print(const)"
   ]
  },
  {
   "cell_type": "code",
   "execution_count": 1,
   "metadata": {},
   "outputs": [],
   "source": [
    "import numpy as np"
   ]
  },
  {
   "cell_type": "code",
   "execution_count": 18,
   "metadata": {},
   "outputs": [
    {
     "name": "stderr",
     "output_type": "stream",
     "text": [
      "/tmp/ipykernel_844390/39805590.py:2: RuntimeWarning: divide by zero encountered in log\n",
      "  c=np.log(np.exp(z1)+np.exp(z1)-np.exp(z1+z1))\n"
     ]
    }
   ],
   "source": [
    "z1=-800\n",
    "c=np.log(np.exp(z1)+np.exp(z1)-np.exp(z1+z1))"
   ]
  },
  {
   "cell_type": "code",
   "execution_count": 23,
   "metadata": {},
   "outputs": [],
   "source": [
    "def make_BICM_int(type):\n",
    "    N=1024\n",
    "    M=4\n",
    "    \n",
    "    if type==1:#1:separated scheme \n",
    "        print(\"interleaver type error!\")\n",
    "    elif type==2:#2:Block intlv(No intlv in arikan polar decoder) \n",
    "        BICM_int=np.arange(N,dtype=int)\n",
    "    elif type==3:#3:No intlv(Block intlv in arikan polar decoder) \n",
    "        BICM_int=np.arange(N,dtype=int)\n",
    "        BICM_int=np.reshape(BICM_int,[int(np.log2(M)),-1],order='C')\n",
    "        BICM_int=np.ravel(BICM_int,order='F')\n",
    "    elif type==4:#4:rand intlv\n",
    "        BICM_int=np.arange(N,dtype=int)\n",
    "        random.shuffle(BICM_int)\n",
    "        \n",
    "    #modify BICM int from simplified to arikan decoder order\n",
    "    BICM_int=np.reshape(BICM_int,[2,-1],order='F')\n",
    "    BICM_int=np.ravel(BICM_int,order='C')\n",
    "    \n",
    "    BICM_deint=np.argsort(BICM_int)\n",
    "    \n",
    "    return BICM_int,BICM_deint"
   ]
  },
  {
   "cell_type": "code",
   "execution_count": 24,
   "metadata": {},
   "outputs": [
    {
     "data": {
      "text/plain": [
       "(array([   0,    2,    4, ..., 1019, 1021, 1023]),\n",
       " array([   0,  512,    1, ..., 1022,  511, 1023]))"
      ]
     },
     "execution_count": 24,
     "metadata": {},
     "output_type": "execute_result"
    }
   ],
   "source": [
    "import numpy as np\n",
    "make_BICM_int(2)"
   ]
  },
  {
   "cell_type": "code",
   "execution_count": 57,
   "metadata": {},
   "outputs": [],
   "source": [
    "import numpy as np\n",
    "CHECK_NODE_TANH_THRES=37.98\n",
    "\n",
    "def max_str(a,b):\n",
    "    res=max(a,b)\n",
    "    res+=np.log(1+np.exp(-1*abs(a-b)))\n",
    "    return res\n",
    "\n",
    "llr_list=np.arange(-50,-30,0.1)\n",
    "for llr_1 in llr_list:\n",
    "    #llr_1=CHECK_NODE_TANH_THRES\n",
    "    llr_2=30\n",
    "    if abs(llr_1) > CHECK_NODE_TANH_THRES and abs(llr_2) > CHECK_NODE_TANH_THRES:\n",
    "        \n",
    "        if llr_1 * llr_2 > 0:\n",
    "            # If both LLRs are of one sign, we return the minimum of their absolute values.\n",
    "            res=min(abs(llr_1), abs(llr_2))\n",
    "        else:\n",
    "            # Otherwise, we return an opposite to the minimum of their absolute values.\n",
    "            res=-1 * min(abs(llr_1), abs(llr_2))\n",
    "        #tmp=np.log(np.exp(-1*res)+np.exp(llr_1+llr_2-res))-np.log(np.exp(llr_1)+np.exp(llr_2))\n",
    "        tmp=max_str(-1*res,llr_1+llr_2-res)-max_str(llr_1,llr_2)\n",
    "        print(tmp)\n",
    "    else:\n",
    "        res= 2 * np.arctanh(np.tanh(llr_1 / 2, ) * np.tanh(llr_2 / 2))"
   ]
  },
  {
   "cell_type": "code",
   "execution_count": null,
   "metadata": {},
   "outputs": [],
   "source": []
  }
 ],
 "metadata": {
  "interpreter": {
   "hash": "31f2aee4e71d21fbe5cf8b01ff0e069b9275f58929596ceb00d14d90e3e16cd6"
  },
  "kernelspec": {
   "display_name": "Python 3.8.10 64-bit",
   "language": "python",
   "name": "python3"
  },
  "language_info": {
   "codemirror_mode": {
    "name": "ipython",
    "version": 3
   },
   "file_extension": ".py",
   "mimetype": "text/x-python",
   "name": "python",
   "nbconvert_exporter": "python",
   "pygments_lexer": "ipython3",
   "version": "3.8.10"
  },
  "orig_nbformat": 4
 },
 "nbformat": 4,
 "nbformat_minor": 2
}
