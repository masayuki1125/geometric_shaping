{
 "cells": [
  {
   "cell_type": "code",
   "execution_count": null,
   "metadata": {},
   "outputs": [],
   "source": [
    "import cupy\n",
    "def process_0():\n",
    "    import cupyx.distributed\n",
    "    cupy.cuda.Device(0).use()\n",
    "    comm = cupyx.distributed.init_process_group(2, 0)\n",
    "    array = cupy.ones(1)\n",
    "    comm.broadcast(array, 0)\n",
    "\n",
    "def process_1():\n",
    "    import cupyx.distributed\n",
    "    cupy.cuda.Device(1).use()\n",
    "    comm = cupyx.distributed.init_process_group(2, 1)\n",
    "    array = cupy.zeros(1)\n",
    "    comm.broadcast(array, 0)\n",
    "    cupy.equal(array, cupy.ones(1))"
   ]
  },
  {
   "cell_type": "code",
   "execution_count": null,
   "metadata": {},
   "outputs": [],
   "source": [
    "process_0()"
   ]
  },
  {
   "cell_type": "code",
   "execution_count": null,
   "metadata": {},
   "outputs": [],
   "source": [
    "2**(2*8)"
   ]
  },
  {
   "cell_type": "code",
   "execution_count": null,
   "metadata": {},
   "outputs": [],
   "source": [
    "import numpy as np\n",
    "a=np.array([2,4,6,3,5])\n",
    "print(np.argsort(a))\n",
    "a=a[[1,0,2,3,4]]\n",
    "print(a)\n",
    "np.argsort(a)"
   ]
  },
  {
   "cell_type": "code",
   "execution_count": null,
   "metadata": {},
   "outputs": [],
   "source": [
    "def calc_J_inv(I):\n",
    "    '''\n",
    "    input:\n",
    "    I:mutual information\n",
    "    output:\n",
    "    gamma:channel SNR Es/No\n",
    "    ----\n",
    "    referrence:\n",
    "    POLAR CODES FOR ERROR CORRECTION:\n",
    "    ANALYSIS AND DECODING ALGORITHMS\n",
    "    p37\n",
    "    (4.5)\n",
    "    '''\n",
    "    if I>1 or I<0:\n",
    "        print(\"I is err\")\n",
    "    \n",
    "    a1=1.09542\n",
    "    b1=0.214217\n",
    "    c1=2.33727\n",
    "    a2=0.706692\n",
    "    b2=0.386013\n",
    "    c2=-1.75017\n",
    "    I_thresh=0.3646\n",
    "    \n",
    "    if I<I_thresh:\n",
    "        sigma=a1*I**2+b1*I+c1*I**(1/2)\n",
    "    else:\n",
    "        sigma=-a2*np.log(b2*(1-I))-c2*I\n",
    "        \n",
    "    gamma=sigma**2/8\n",
    "    #gamma_dB=10*math.log10(gamma)\n",
    "    return gamma"
   ]
  },
  {
   "cell_type": "code",
   "execution_count": 1,
   "metadata": {},
   "outputs": [
    {
     "ename": "NameError",
     "evalue": "name 'calc_J_inv' is not defined",
     "output_type": "error",
     "traceback": [
      "\u001b[0;31m---------------------------------------------------------------------------\u001b[0m",
      "\u001b[0;31mNameError\u001b[0m                                 Traceback (most recent call last)",
      "\u001b[1;32m/home/kaneko/Dropbox/programming/geometric_shaping/test.ipynb Cell 6'\u001b[0m in \u001b[0;36m<cell line: 5>\u001b[0;34m()\u001b[0m\n\u001b[1;32m      <a href='vscode-notebook-cell://ssh-remote%2Bsoundgarden.ochiailab.jp/home/kaneko/Dropbox/programming/geometric_shaping/test.ipynb#ch0000005vscode-remote?line=3'>4</a>\u001b[0m x\u001b[39m=\u001b[39mnp\u001b[39m.\u001b[39mzeros(\u001b[39mlen\u001b[39m(y))\n\u001b[1;32m      <a href='vscode-notebook-cell://ssh-remote%2Bsoundgarden.ochiailab.jp/home/kaneko/Dropbox/programming/geometric_shaping/test.ipynb#ch0000005vscode-remote?line=4'>5</a>\u001b[0m \u001b[39mfor\u001b[39;00m i \u001b[39min\u001b[39;00m \u001b[39mrange\u001b[39m(\u001b[39mlen\u001b[39m(y)):\n\u001b[0;32m----> <a href='vscode-notebook-cell://ssh-remote%2Bsoundgarden.ochiailab.jp/home/kaneko/Dropbox/programming/geometric_shaping/test.ipynb#ch0000005vscode-remote?line=5'>6</a>\u001b[0m     x[i]\u001b[39m=\u001b[39mcalc_J_inv(y[i])\n\u001b[1;32m      <a href='vscode-notebook-cell://ssh-remote%2Bsoundgarden.ochiailab.jp/home/kaneko/Dropbox/programming/geometric_shaping/test.ipynb#ch0000005vscode-remote?line=7'>8</a>\u001b[0m x\u001b[39m=\u001b[39m\u001b[39m10\u001b[39m\u001b[39m*\u001b[39mnp\u001b[39m.\u001b[39mlog10(x)\n\u001b[1;32m      <a href='vscode-notebook-cell://ssh-remote%2Bsoundgarden.ochiailab.jp/home/kaneko/Dropbox/programming/geometric_shaping/test.ipynb#ch0000005vscode-remote?line=8'>9</a>\u001b[0m plt\u001b[39m.\u001b[39mplot(x,y)\n",
      "\u001b[0;31mNameError\u001b[0m: name 'calc_J_inv' is not defined"
     ]
    }
   ],
   "source": [
    "import numpy as np\n",
    "import matplotlib.pyplot as plt\n",
    "y=np.arange(0,1,0.03)\n",
    "x=np.zeros(len(y))\n",
    "for i in range(len(y)):\n",
    "    x[i]=calc_J_inv(y[i])\n",
    "    \n",
    "x=10*np.log10(x)\n",
    "plt.plot(x,y)\n",
    "\n",
    "filename=\"J_inverse_function\"\n",
    "with open(filename,'w') as f:\n",
    "    for i in range(len(x)):\n",
    "        print(str(x[i]),str(y[i]),file=f)\n",
    "\n"
   ]
  },
  {
   "cell_type": "code",
   "execution_count": 24,
   "metadata": {},
   "outputs": [],
   "source": [
    "def reverse(index,n):\n",
    "    '''\n",
    "    make n into bit reversal order\n",
    "    '''\n",
    "    tmp=format (index,'b')\n",
    "    tmp=tmp.zfill(n+1)[:0:-1]\n",
    "    res=int(tmp,2) \n",
    "    return res"
   ]
  },
  {
   "cell_type": "code",
   "execution_count": 45,
   "metadata": {},
   "outputs": [
    {
     "name": "stdout",
     "output_type": "stream",
     "text": [
      "-2.1522446068913688\n"
     ]
    }
   ],
   "source": [
    "import numpy as np\n",
    "N=1024\n",
    "K=512\n",
    "M=256\n",
    "EsNodB=9.0\n",
    "dmin=(6/(M-1))**(1/2)\n",
    "gamma=10**(EsNodB/10)*dmin/2\n",
    "\n",
    "gammadb=10*np.log10(gamma)\n",
    "print(gammadb)"
   ]
  },
  {
   "cell_type": "code",
   "execution_count": 48,
   "metadata": {},
   "outputs": [
    {
     "name": "stdout",
     "output_type": "stream",
     "text": [
      "-2.2.dat\n",
      "[['0,' '-1.988294e+03']\n",
      " ['1,' '-3.986529e+02']\n",
      " ['2,' '-5.493686e+02']\n",
      " ...\n",
      " ['1021,' '2.283489e+01']\n",
      " ['1022,' '2.157829e+01']\n",
      " ['1023,' '2.795075e+01']]\n"
     ]
    }
   ],
   "source": [
    "\n",
    "n=int(np.log2(N))\n",
    "\n",
    "filename=str(-2.2)+'.dat'\n",
    "print(filename)\n",
    "a=np.loadtxt(filename,dtype=str)\n",
    "xi=np.zeros(N)\n",
    "print(a)\n",
    "xi=a[:,1].astype(float)"
   ]
  },
  {
   "cell_type": "code",
   "execution_count": 49,
   "metadata": {},
   "outputs": [],
   "source": [
    "tmp=np.argsort(xi)\n",
    "frozen_bits=np.sort(tmp[:N-K])\n",
    "info_bits=np.sort(tmp[N-K:])\n",
    "#bit reversal order\n",
    "for i in range(len(frozen_bits)):\n",
    "    frozen_bits[i]=reverse(frozen_bits[i],n)\n",
    "    \n",
    "frozen_bits=np.sort(frozen_bits)\n",
    "    \n",
    "for i in range(len(info_bits)):\n",
    "    info_bits[i]=reverse(info_bits[i],n)\n",
    "info_bits=np.sort(info_bits)\n"
   ]
  },
  {
   "cell_type": "code",
   "execution_count": 50,
   "metadata": {},
   "outputs": [
    {
     "name": "stdout",
     "output_type": "stream",
     "text": [
      "0\n"
     ]
    }
   ],
   "source": [
    "from polar_code.RCA import RCA\n",
    "const=RCA()\n",
    "a1,b1=const.main_const(N,K,EsNodB,256)\n",
    "a,b=const.main_const(N,K,gammadb,2)\n",
    "print(np.sum(a1!=a))\n",
    "\n",
    "\n",
    "dmin=(6/(M-1))**(1/2)\n",
    "gamma=10**(EsNodB/10)*dmin/2 #QPSK(sqrt(2))\n",
    "#gamma=gamma*np.ones(N)\n"
   ]
  },
  {
   "cell_type": "code",
   "execution_count": 51,
   "metadata": {},
   "outputs": [],
   "source": [
    "from polar_code.iGA import Improved_GA\n",
    "\n",
    "const=Improved_GA()\n",
    "c,d=const.main_const(N,K,EsNodB,256)"
   ]
  },
  {
   "cell_type": "code",
   "execution_count": 52,
   "metadata": {},
   "outputs": [
    {
     "name": "stdout",
     "output_type": "stream",
     "text": [
      "0\n",
      "277\n",
      "277\n"
     ]
    }
   ],
   "source": [
    "print(np.sum(a!=frozen_bits))\n",
    "print(np.sum(c!=frozen_bits))\n",
    "print(np.sum(c!=a))\n",
    "#print(a)\n",
    "#print(frozen_bits)"
   ]
  },
  {
   "cell_type": "code",
   "execution_count": 57,
   "metadata": {},
   "outputs": [
    {
     "name": "stdout",
     "output_type": "stream",
     "text": [
      "7\n",
      "6\n",
      "5\n",
      "4\n",
      "3\n",
      "2\n",
      "1\n",
      "0\n"
     ]
    }
   ],
   "source": [
    "M=256\n",
    "import math\n",
    "for i in range(0,int(math.log2(M)))[::-1]:\n",
    "    print(i)"
   ]
  },
  {
   "cell_type": "code",
   "execution_count": 54,
   "metadata": {},
   "outputs": [
    {
     "name": "stdout",
     "output_type": "stream",
     "text": [
      "0\n",
      "2\n",
      "2\n"
     ]
    }
   ],
   "source": [
    "const=0\n",
    "for i in range(len(a)):\n",
    "    if np.any(a[i]==frozen_bits)==False:\n",
    "        const+=1\n",
    "\n",
    "print(const)\n",
    "\n",
    "const=0\n",
    "for i in range(len(c)):\n",
    "    if np.any(c[i]==frozen_bits)==False:\n",
    "        const+=1\n",
    "\n",
    "print(const)\n",
    "\n",
    "\n",
    "const=0\n",
    "for i in range(len(c)):\n",
    "    if np.any(c[i]==a)==False:\n",
    "        const+=1\n",
    "\n",
    "print(const)"
   ]
  },
  {
   "cell_type": "code",
   "execution_count": null,
   "metadata": {},
   "outputs": [],
   "source": []
  }
 ],
 "metadata": {
  "interpreter": {
   "hash": "31f2aee4e71d21fbe5cf8b01ff0e069b9275f58929596ceb00d14d90e3e16cd6"
  },
  "kernelspec": {
   "display_name": "Python 3.8.10 64-bit",
   "language": "python",
   "name": "python3"
  },
  "language_info": {
   "codemirror_mode": {
    "name": "ipython",
    "version": 3
   },
   "file_extension": ".py",
   "mimetype": "text/x-python",
   "name": "python",
   "nbconvert_exporter": "python",
   "pygments_lexer": "ipython3",
   "version": "3.8.10"
  },
  "orig_nbformat": 4
 },
 "nbformat": 4,
 "nbformat_minor": 2
}
