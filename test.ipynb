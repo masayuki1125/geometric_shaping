{
 "cells": [
  {
   "cell_type": "code",
   "execution_count": 1,
   "metadata": {},
   "outputs": [],
   "source": [
    "import cupy\n",
    "def process_0():\n",
    "    import cupyx.distributed\n",
    "    cupy.cuda.Device(0).use()\n",
    "    comm = cupyx.distributed.init_process_group(2, 0)\n",
    "    array = cupy.ones(1)\n",
    "    comm.broadcast(array, 0)\n",
    "\n",
    "def process_1():\n",
    "    import cupyx.distributed\n",
    "    cupy.cuda.Device(1).use()\n",
    "    comm = cupyx.distributed.init_process_group(2, 1)\n",
    "    array = cupy.zeros(1)\n",
    "    comm.broadcast(array, 0)\n",
    "    cupy.equal(array, cupy.ones(1))"
   ]
  },
  {
   "cell_type": "code",
   "execution_count": 3,
   "metadata": {},
   "outputs": [
    {
     "name": "stderr",
     "output_type": "stream",
     "text": [
      "/home/kaneko/.local/lib/python3.8/site-packages/cupy/_environment.py:399: UserWarning: \n",
      "nccl library could not be loaded.\n",
      "\n",
      "Reason: ImportError (libnccl.so.2: cannot open shared object file: No such file or directory)\n",
      "\n",
      "You can install the library by:\n",
      "\n",
      "  $ python -m cupyx.tools.install_library --library nccl --cuda 11.2\n",
      "\n",
      "  warnings.warn(msg)\n"
     ]
    },
    {
     "ename": "RuntimeError",
     "evalue": "NCCL is not available",
     "output_type": "error",
     "traceback": [
      "\u001b[0;31m---------------------------------------------------------------------------\u001b[0m",
      "\u001b[0;31mRuntimeError\u001b[0m                              Traceback (most recent call last)",
      "\u001b[1;32m/home/kaneko/Dropbox/programming/geometric_shaping/test.ipynb Cell 2'\u001b[0m in \u001b[0;36m<cell line: 1>\u001b[0;34m()\u001b[0m\n\u001b[0;32m----> <a href='vscode-notebook-cell://ssh-remote%2Bsoundgarden.ochiailab.jp/home/kaneko/Dropbox/programming/geometric_shaping/test.ipynb#ch0000001vscode-remote?line=0'>1</a>\u001b[0m process_0()\n",
      "\u001b[1;32m/home/kaneko/Dropbox/programming/geometric_shaping/test.ipynb Cell 1'\u001b[0m in \u001b[0;36mprocess_0\u001b[0;34m()\u001b[0m\n\u001b[1;32m      <a href='vscode-notebook-cell://ssh-remote%2Bsoundgarden.ochiailab.jp/home/kaneko/Dropbox/programming/geometric_shaping/test.ipynb#ch0000000vscode-remote?line=2'>3</a>\u001b[0m \u001b[39mimport\u001b[39;00m \u001b[39mcupyx\u001b[39;00m\u001b[39m.\u001b[39;00m\u001b[39mdistributed\u001b[39;00m\n\u001b[1;32m      <a href='vscode-notebook-cell://ssh-remote%2Bsoundgarden.ochiailab.jp/home/kaneko/Dropbox/programming/geometric_shaping/test.ipynb#ch0000000vscode-remote?line=3'>4</a>\u001b[0m cupy\u001b[39m.\u001b[39mcuda\u001b[39m.\u001b[39mDevice(\u001b[39m0\u001b[39m)\u001b[39m.\u001b[39muse()\n\u001b[0;32m----> <a href='vscode-notebook-cell://ssh-remote%2Bsoundgarden.ochiailab.jp/home/kaneko/Dropbox/programming/geometric_shaping/test.ipynb#ch0000000vscode-remote?line=4'>5</a>\u001b[0m comm \u001b[39m=\u001b[39m cupyx\u001b[39m.\u001b[39;49mdistributed\u001b[39m.\u001b[39;49minit_process_group(\u001b[39m2\u001b[39;49m, \u001b[39m0\u001b[39;49m)\n\u001b[1;32m      <a href='vscode-notebook-cell://ssh-remote%2Bsoundgarden.ochiailab.jp/home/kaneko/Dropbox/programming/geometric_shaping/test.ipynb#ch0000000vscode-remote?line=5'>6</a>\u001b[0m array \u001b[39m=\u001b[39m cupy\u001b[39m.\u001b[39mones(\u001b[39m1\u001b[39m)\n\u001b[1;32m      <a href='vscode-notebook-cell://ssh-remote%2Bsoundgarden.ochiailab.jp/home/kaneko/Dropbox/programming/geometric_shaping/test.ipynb#ch0000000vscode-remote?line=6'>7</a>\u001b[0m comm\u001b[39m.\u001b[39mbroadcast(array, \u001b[39m0\u001b[39m)\n",
      "File \u001b[0;32m~/.local/lib/python3.8/site-packages/cupyx/distributed/_init.py:77\u001b[0m, in \u001b[0;36minit_process_group\u001b[0;34m(n_devices, rank, backend, host, port)\u001b[0m\n\u001b[1;32m     <a href='file:///home/kaneko/.local/lib/python3.8/site-packages/cupyx/distributed/_init.py?line=74'>75</a>\u001b[0m     \u001b[39mraise\u001b[39;00m \u001b[39mValueError\u001b[39;00m(\u001b[39mf\u001b[39m\u001b[39m'\u001b[39m\u001b[39m{\u001b[39;00mbackend\u001b[39m}\u001b[39;00m\u001b[39m is not supported\u001b[39m\u001b[39m'\u001b[39m)\n\u001b[1;32m     <a href='file:///home/kaneko/.local/lib/python3.8/site-packages/cupyx/distributed/_init.py?line=75'>76</a>\u001b[0m \u001b[39mif\u001b[39;00m backend \u001b[39m==\u001b[39m \u001b[39m'\u001b[39m\u001b[39mnccl\u001b[39m\u001b[39m'\u001b[39m \u001b[39mand\u001b[39;00m \u001b[39mnot\u001b[39;00m nccl\u001b[39m.\u001b[39mavailable:\n\u001b[0;32m---> <a href='file:///home/kaneko/.local/lib/python3.8/site-packages/cupyx/distributed/_init.py?line=76'>77</a>\u001b[0m     \u001b[39mraise\u001b[39;00m \u001b[39mRuntimeError\u001b[39;00m(\u001b[39m'\u001b[39m\u001b[39mNCCL is not available\u001b[39m\u001b[39m'\u001b[39m)\n\u001b[1;32m     <a href='file:///home/kaneko/.local/lib/python3.8/site-packages/cupyx/distributed/_init.py?line=77'>78</a>\u001b[0m \u001b[39mif\u001b[39;00m host \u001b[39mis\u001b[39;00m \u001b[39mNone\u001b[39;00m:\n\u001b[1;32m     <a href='file:///home/kaneko/.local/lib/python3.8/site-packages/cupyx/distributed/_init.py?line=78'>79</a>\u001b[0m     host \u001b[39m=\u001b[39m os\u001b[39m.\u001b[39menviron\u001b[39m.\u001b[39mget(\u001b[39m'\u001b[39m\u001b[39mCUPYX_DISTRIBUTED_HOST\u001b[39m\u001b[39m'\u001b[39m, _store\u001b[39m.\u001b[39m_DEFAULT_HOST)\n",
      "\u001b[0;31mRuntimeError\u001b[0m: NCCL is not available"
     ]
    }
   ],
   "source": [
    "process_0()"
   ]
  },
  {
   "cell_type": "code",
   "execution_count": null,
   "metadata": {},
   "outputs": [],
   "source": []
  }
 ],
 "metadata": {
  "interpreter": {
   "hash": "31f2aee4e71d21fbe5cf8b01ff0e069b9275f58929596ceb00d14d90e3e16cd6"
  },
  "kernelspec": {
   "display_name": "Python 3.8.10 64-bit",
   "language": "python",
   "name": "python3"
  },
  "language_info": {
   "codemirror_mode": {
    "name": "ipython",
    "version": 3
   },
   "file_extension": ".py",
   "mimetype": "text/x-python",
   "name": "python",
   "nbconvert_exporter": "python",
   "pygments_lexer": "ipython3",
   "version": "3.8.10"
  },
  "orig_nbformat": 4
 },
 "nbformat": 4,
 "nbformat_minor": 2
}
